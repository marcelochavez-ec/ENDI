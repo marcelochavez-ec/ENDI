{
 "cells": [
  {
   "cell_type": "markdown",
   "id": "541147a2-8284-4cd3-a687-183bc7388b03",
   "metadata": {},
   "source": [
    "<div style=\"position: relative; width: 100%;\">\n",
    "    <div style=\"\n",
    "        padding: 20px;\n",
    "        font-size: 150%;\n",
    "        text-align: center;\n",
    "        display: block; /* Cambiado de inline-block a block para ocupar todo el ancho */\n",
    "        width: 100%; /* Asegura que el div ocupe el 100% del ancho disponible */\n",
    "        border-radius: 5px;\n",
    "        background-color: #104E8B; /* Fondo azul */\n",
    "        color: white; /* Letras blancas */\n",
    "        font-family: 'Calibri', sans-serif; /* Fuente Calibri */\n",
    "        font-weight: bold; /* Letras en negrita */\n",
    "        box-shadow: 0px 4px 8px rgba(0, 0, 0, 0.5); /* Sombra para profundidad */\n",
    "        box-sizing: border-box; /* Asegura que el padding no afecte al ancho total */\n",
    "    \">\n",
    "        Proceso de Extracción, Transformación y Carga de los módulos (tablas) de la ENDI\n",
    "    </div>\n",
    "</div>"
   ]
  },
  {
   "cell_type": "code",
   "execution_count": 1,
   "id": "3ff3c25b-55f1-4c2b-bcd2-8d635afb00c6",
   "metadata": {},
   "outputs": [],
   "source": [
    "from CLASS_ETL_ENDI import *\n",
    "import qgridnext as qt"
   ]
  },
  {
   "cell_type": "code",
   "execution_count": 2,
   "id": "ee82483a-b693-4675-9825-7e446c5f6404",
   "metadata": {},
   "outputs": [
    {
     "name": "stdout",
     "output_type": "stream",
     "text": [
      "Error al ejecutar la consulta SQL: (psycopg2.errors.UndefinedTable) no existe la relación «public.mi_tabla»\n",
      "LINE 1: SELECT * FROM public.mi_tabla WHERE fecha >= '2023-01-01';\n",
      "                      ^\n",
      "\n",
      "[SQL: SELECT * FROM public.mi_tabla WHERE fecha >= '2023-01-01';]\n",
      "(Background on this error at: https://sqlalche.me/e/20/f405)\n"
     ]
    }
   ],
   "source": [
    "# Crear una instancia de la clase\n",
    "etl = ETL_ENDI()\n",
    "\n",
    "# Realizar una consulta SQL\n",
    "query = \"SELECT * FROM public.mi_tabla WHERE fecha >= '2023-01-01';\"\n",
    "df_resultado = etl.consulta_sql(query)"
   ]
  },
  {
   "cell_type": "code",
   "execution_count": 3,
   "id": "39b373bc-f347-437e-912d-b0091ac14758",
   "metadata": {},
   "outputs": [],
   "source": [
    "# Instancia de la clase ETL_ENDI\n",
    "etl_endi = ETL_ENDI()\n",
    "\n",
    "# Path de los file de RDS\n",
    "file_f1_hogar = 'BDD/BDD_ENDI_R2_f1_hogar.rds'\n",
    "file_f1_personas = 'BDD/BDD_ENDI_R2_f1_personas.rds'\n",
    "file_f2_lactancia = 'BDD/BDD_ENDI_R2_f2_lactancia.rds'\n",
    "file_f2_mef = 'BDD/BDD_ENDI_R2_f2_mef.rds'\n",
    "file_f2_salud_ninez = 'BDD/BDD_ENDI_R2_f2_salud_ninez.rds'\n",
    "file_f3_desarrollo_infantil = 'BDD/BDD_ENDI_R2_f3_desarrollo_inf.rds'"
   ]
  },
  {
   "cell_type": "code",
   "execution_count": 4,
   "id": "df995307-92ad-4df7-bc3b-f9e2371e1b41",
   "metadata": {},
   "outputs": [],
   "source": [
    "# Cargar de los archivos .RDS\n",
    "\n",
    "f1_hogar = etl_endi.leer_rds(file_f1_hogar)\n",
    "f1_personas = etl_endi.leer_rds(file_f1_personas)\n",
    "f2_lactancia = etl_endi.leer_rds(file_f2_lactancia)\n",
    "f2_mef = etl_endi.leer_rds(file_f2_mef)\n",
    "f2_salud_niniez = etl_endi.leer_rds(file_f2_salud_ninez)\n",
    "f3_desarrollo_infantil = etl_endi.leer_rds(file_f3_desarrollo_infantil)"
   ]
  },
  {
   "cell_type": "code",
   "execution_count": 4,
   "id": "c6bdea66-7c1e-4e1f-a35d-c676db4acb43",
   "metadata": {},
   "outputs": [],
   "source": [
    "# Generar y mostrar resumen estadístico\n",
    "exploratorio_hogar = etl_endi.exploratorio(f1_hogar)"
   ]
  },
  {
   "cell_type": "code",
   "execution_count": 5,
   "id": "ff9320dc-0b89-4973-b9dd-159f085541fb",
   "metadata": {},
   "outputs": [
    {
     "data": {
      "application/vnd.jupyter.widget-view+json": {
       "model_id": "57ffb911e79a44fdbcc123fd8fbc41d9",
       "version_major": 2,
       "version_minor": 0
      },
      "text/plain": [
       "QgridWidget(grid_options={'fullWidthRows': True, 'syncColumnCellResize': True, 'forceFitColumns': True, 'defau…"
      ]
     },
     "execution_count": 5,
     "metadata": {},
     "output_type": "execute_result"
    }
   ],
   "source": [
    "explo_hogar = qt.show_grid(exploratorio_hogar, show_toolbar=True)\n",
    "explo_hogar"
   ]
  },
  {
   "cell_type": "code",
   "execution_count": 6,
   "id": "efd9b54a-eb55-4d59-82c0-b24708c57a31",
   "metadata": {},
   "outputs": [
    {
     "name": "stdout",
     "output_type": "stream",
     "text": [
      "Tabla 'f1_hogar' almacenada en el esquema 'endi' de la base de datos.\n",
      "Tabla 'f1_personas' almacenada en el esquema 'endi' de la base de datos.\n",
      "Tabla 'f2_lactancia' almacenada en el esquema 'endi' de la base de datos.\n",
      "Tabla 'f2_mef' almacenada en el esquema 'endi' de la base de datos.\n",
      "Tabla 'f2_salud_ninez' almacenada en el esquema 'endi' de la base de datos.\n",
      "Tabla 'f3_desarrollo_infantil' almacenada en el esquema 'endi' de la base de datos.\n"
     ]
    }
   ],
   "source": [
    "# Almacenar en PostgreSQL\n",
    "etl_endi.almacenamiento_postgresql(f1_hogar, 'f1_hogar')\n",
    "etl_endi.almacenamiento_postgresql(f1_personas, 'f1_personas')\n",
    "etl_endi.almacenamiento_postgresql(f2_lactancia, 'f2_lactancia')\n",
    "etl_endi.almacenamiento_postgresql(f2_mef, 'f2_mef')\n",
    "etl_endi.almacenamiento_postgresql(f2_salud_niniez, 'f2_salud_ninez')\n",
    "etl_endi.almacenamiento_postgresql(f3_desarrollo_infantil, 'f3_desarrollo_infantil')"
   ]
  },
  {
   "cell_type": "code",
   "execution_count": 7,
   "id": "19aaf9b3-5f85-4144-a4c6-3b61b9ade0c3",
   "metadata": {},
   "outputs": [],
   "source": [
    "# Ruta del archivo Excel que contiene las pestañas\n",
    "file_path = 'BDD/Diccionario_variables_ENDI_R2.xlsx'\n",
    "\n",
    "# Lista de nombres de las pestañas que quieres leer\n",
    "sheets = ['f1_personas', \n",
    "          'f1_hogar', \n",
    "          'f2_mef', \n",
    "          'f2_lactancia',\n",
    "          'f2_salud_niñez',\n",
    "          'f3_desarrollo_infantil']\n",
    "\n",
    "# Llamar al método para leer las pestañas y concatenar los DataFrames\n",
    "endi_diccionarios = etl_endi.lectura_diccionario(file_path, sheets)"
   ]
  },
  {
   "cell_type": "code",
   "execution_count": 8,
   "id": "b129b997-0c65-4785-865d-4f983382af3e",
   "metadata": {},
   "outputs": [
    {
     "name": "stdout",
     "output_type": "stream",
     "text": [
      "╒═════════════════╤════════════════════════════════════════════════════════════════════════════════════════════════╕\n",
      "│ Campo           │ Valor                                                                                          │\n",
      "╞═════════════════╪════════════════════════════════════════════════════════════════════════════════════════════════╡\n",
      "│ codigo_variable │ f2_s1_100_1                                                                                    │\n",
      "├─────────────────┼────────────────────────────────────────────────────────────────────────────────────────────────┤\n",
      "│ nombre_variable │ Día de nacimiento                                                                              │\n",
      "├─────────────────┼────────────────────────────────────────────────────────────────────────────────────────────────┤\n",
      "│ pregunta        │ ¿Cuál es su fecha de nacimiento? (Solicite la cédula de identidad o partida de nacimiento) Día │\n",
      "├─────────────────┼────────────────────────────────────────────────────────────────────────────────────────────────┤\n",
      "│ categorias      │ nan                                                                                            │\n",
      "├─────────────────┼────────────────────────────────────────────────────────────────────────────────────────────────┤\n",
      "│ tipo_variable   │ Variable estadística cuantitativa (discreta o continua)                                        │\n",
      "├─────────────────┼────────────────────────────────────────────────────────────────────────────────────────────────┤\n",
      "│ formato         │ Numérica                                                                                       │\n",
      "╘═════════════════╧════════════════════════════════════════════════════════════════════════════════════════════════╛\n"
     ]
    }
   ],
   "source": [
    "# Búsqueda de variable en el diccionario\n",
    "print(etl_endi.buscar_variable(endi_diccionarios, 'f2_s1_100_1'))"
   ]
  }
 ],
 "metadata": {
  "kernelspec": {
   "display_name": "Python 3 (ipykernel)",
   "language": "python",
   "name": "python3"
  },
  "language_info": {
   "codemirror_mode": {
    "name": "ipython",
    "version": 3
   },
   "file_extension": ".py",
   "mimetype": "text/x-python",
   "name": "python",
   "nbconvert_exporter": "python",
   "pygments_lexer": "ipython3",
   "version": "3.12.7"
  },
  "widgets": {
   "application/vnd.jupyter.widget-state+json": {
    "state": {},
    "version_major": 2,
    "version_minor": 0
   }
  }
 },
 "nbformat": 4,
 "nbformat_minor": 5
}
