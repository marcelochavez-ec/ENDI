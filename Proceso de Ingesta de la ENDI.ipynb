{
 "cells": [
  {
   "cell_type": "markdown",
   "id": "541147a2-8284-4cd3-a687-183bc7388b03",
   "metadata": {},
   "source": [
    "<div style=\"position: relative; width: 100%;\">\n",
    "    <div style=\"\n",
    "        padding: 20px;\n",
    "        font-size: 150%;\n",
    "        text-align: center;\n",
    "        display: block; /* Cambiado de inline-block a block para ocupar todo el ancho */\n",
    "        width: 100%; /* Asegura que el div ocupe el 100% del ancho disponible */\n",
    "        border-radius: 5px;\n",
    "        background-color: #104E8B; /* Fondo azul */\n",
    "        color: white; /* Letras blancas */\n",
    "        font-family: 'Calibri', sans-serif; /* Fuente Calibri */\n",
    "        font-weight: bold; /* Letras en negrita */\n",
    "        box-shadow: 0px 4px 8px rgba(0, 0, 0, 0.5); /* Sombra para profundidad */\n",
    "        box-sizing: border-box; /* Asegura que el padding no afecte al ancho total */\n",
    "    \">\n",
    "        Proceso de Extracción, Transformación y Carga de los módulos (tablas) de la ENDI\n",
    "    </div>\n",
    "</div>"
   ]
  },
  {
   "cell_type": "code",
   "execution_count": 1,
   "id": "3ff3c25b-55f1-4c2b-bcd2-8d635afb00c6",
   "metadata": {},
   "outputs": [],
   "source": [
    "from CLASS_ETL_ENDI import *\n",
    "import qgridnext as qt"
   ]
  },
  {
   "cell_type": "code",
   "execution_count": 2,
   "id": "39b373bc-f347-437e-912d-b0091ac14758",
   "metadata": {},
   "outputs": [],
   "source": [
    "# Instancia de la clase ETL_ENDI\n",
    "etl_endi = ETL_ENDI()\n",
    "\n",
    "# Path de los file de RDS\n",
    "file_f1_hogar = 'BDD/BDD_ENDI_R2_f1_hogar.rds'\n",
    "file_f1_personas = 'BDD/BDD_ENDI_R2_f1_personas.rds'\n",
    "file_f2_lactancia = 'BDD/BDD_ENDI_R2_f2_lactancia.rds'\n",
    "file_f2_mef = 'BDD/BDD_ENDI_R2_f2_mef.rds'\n",
    "file_f2_salud_ninez = 'BDD/BDD_ENDI_R2_f2_salud_ninez.rds'\n",
    "file_f3_desarrollo_infantil = 'BDD/BDD_ENDI_R2_f3_desarrollo_inf.rds'"
   ]
  },
  {
   "cell_type": "code",
   "execution_count": 3,
   "id": "df995307-92ad-4df7-bc3b-f9e2371e1b41",
   "metadata": {},
   "outputs": [],
   "source": [
    "# Cargar de los archivos .RDS\n",
    "\n",
    "f1_hogar = etl_endi.leer_rds(file_f1_hogar)\n",
    "f1_personas = etl_endi.leer_rds(file_f1_personas)\n",
    "f2_lactancia = etl_endi.leer_rds(file_f2_lactancia)\n",
    "f2_mef = etl_endi.leer_rds(file_f2_mef)\n",
    "f2_salud_niniez = etl_endi.leer_rds(file_f2_salud_ninez)\n",
    "f3_desarrollo_infantil = etl_endi.leer_rds(file_f3_desarrollo_infantil)"
   ]
  },
  {
   "cell_type": "code",
   "execution_count": 4,
   "id": "c6bdea66-7c1e-4e1f-a35d-c676db4acb43",
   "metadata": {},
   "outputs": [],
   "source": [
    "# Generar y mostrar resumen estadístico\n",
    "exploratorio_hogar = etl_endi.exploratorio(f1_hogar)"
   ]
  },
  {
   "cell_type": "code",
   "execution_count": 5,
   "id": "ff9320dc-0b89-4973-b9dd-159f085541fb",
   "metadata": {},
   "outputs": [
    {
     "data": {
      "application/vnd.jupyter.widget-view+json": {
       "model_id": "57ffb911e79a44fdbcc123fd8fbc41d9",
       "version_major": 2,
       "version_minor": 0
      },
      "text/plain": [
       "QgridWidget(grid_options={'fullWidthRows': True, 'syncColumnCellResize': True, 'forceFitColumns': True, 'defau…"
      ]
     },
     "execution_count": 5,
     "metadata": {},
     "output_type": "execute_result"
    }
   ],
   "source": [
    "explo_hogar = qt.show_grid(exploratorio_hogar, show_toolbar=True)\n",
    "explo_hogar"
   ]
  },
  {
   "cell_type": "code",
   "execution_count": 6,
   "id": "efd9b54a-eb55-4d59-82c0-b24708c57a31",
   "metadata": {},
   "outputs": [
    {
     "name": "stdout",
     "output_type": "stream",
     "text": [
      "Tabla 'f1_hogar' almacenada en el esquema 'endi' de la base de datos.\n",
      "Tabla 'f1_personas' almacenada en el esquema 'endi' de la base de datos.\n",
      "Tabla 'f2_lactancia' almacenada en el esquema 'endi' de la base de datos.\n",
      "Tabla 'f2_mef' almacenada en el esquema 'endi' de la base de datos.\n",
      "Tabla 'f2_salud_ninez' almacenada en el esquema 'endi' de la base de datos.\n",
      "Tabla 'f3_desarrollo_infantil' almacenada en el esquema 'endi' de la base de datos.\n"
     ]
    }
   ],
   "source": [
    "# Almacenar en PostgreSQL\n",
    "etl_endi.almacenamiento_postgresql(f1_hogar, 'f1_hogar')\n",
    "etl_endi.almacenamiento_postgresql(f1_personas, 'f1_personas')\n",
    "etl_endi.almacenamiento_postgresql(f2_lactancia, 'f2_lactancia')\n",
    "etl_endi.almacenamiento_postgresql(f2_mef, 'f2_mef')\n",
    "etl_endi.almacenamiento_postgresql(f2_salud_niniez, 'f2_salud_ninez')\n",
    "etl_endi.almacenamiento_postgresql(f3_desarrollo_infantil, 'f3_desarrollo_infantil')"
   ]
  },
  {
   "cell_type": "code",
   "execution_count": 7,
   "id": "19aaf9b3-5f85-4144-a4c6-3b61b9ade0c3",
   "metadata": {},
   "outputs": [],
   "source": [
    "# Ruta del archivo Excel que contiene las pestañas\n",
    "file_path = 'BDD/Diccionario_variables_ENDI_R2.xlsx'\n",
    "\n",
    "# Lista de nombres de las pestañas que quieres leer\n",
    "sheets = ['f1_personas', \n",
    "          'f1_hogar', \n",
    "          'f2_mef', \n",
    "          'f2_lactancia',\n",
    "          'f2_salud_niñez',\n",
    "          'f3_desarrollo_infantil']\n",
    "\n",
    "# Llamar al método para leer las pestañas y concatenar los DataFrames\n",
    "endi_diccionarios = etl_endi.lectura_diccionario(file_path, sheets)"
   ]
  },
  {
   "cell_type": "code",
   "execution_count": 8,
   "id": "b129b997-0c65-4785-865d-4f983382af3e",
   "metadata": {},
   "outputs": [
    {
     "name": "stdout",
     "output_type": "stream",
     "text": [
      "╒═════════════════╤════════════════════════════════════════════════════════════════════════════════════════════════╕\n",
      "│ Campo           │ Valor                                                                                          │\n",
      "╞═════════════════╪════════════════════════════════════════════════════════════════════════════════════════════════╡\n",
      "│ codigo_variable │ f2_s1_100_1                                                                                    │\n",
      "├─────────────────┼────────────────────────────────────────────────────────────────────────────────────────────────┤\n",
      "│ nombre_variable │ Día de nacimiento                                                                              │\n",
      "├─────────────────┼────────────────────────────────────────────────────────────────────────────────────────────────┤\n",
      "│ pregunta        │ ¿Cuál es su fecha de nacimiento? (Solicite la cédula de identidad o partida de nacimiento) Día │\n",
      "├─────────────────┼────────────────────────────────────────────────────────────────────────────────────────────────┤\n",
      "│ categorias      │ nan                                                                                            │\n",
      "├─────────────────┼────────────────────────────────────────────────────────────────────────────────────────────────┤\n",
      "│ tipo_variable   │ Variable estadística cuantitativa (discreta o continua)                                        │\n",
      "├─────────────────┼────────────────────────────────────────────────────────────────────────────────────────────────┤\n",
      "│ formato         │ Numérica                                                                                       │\n",
      "╘═════════════════╧════════════════════════════════════════════════════════════════════════════════════════════════╛\n"
     ]
    }
   ],
   "source": [
    "# Búsqueda de variable en el diccionario\n",
    "print(etl_endi.buscar_variable(endi_diccionarios, 'f2_s1_100_1'))"
   ]
  }
 ],
 "metadata": {
  "kernelspec": {
   "display_name": "Python 3 (ipykernel)",
   "language": "python",
   "name": "python3"
  },
  "language_info": {
   "codemirror_mode": {
    "name": "ipython",
    "version": 3
   },
   "file_extension": ".py",
   "mimetype": "text/x-python",
   "name": "python",
   "nbconvert_exporter": "python",
   "pygments_lexer": "ipython3",
   "version": "3.12.7"
  },
  "widgets": {
   "application/vnd.jupyter.widget-state+json": {
    "state": {
     "149a954cbd044216baeb93d4a2b50e38": {
      "model_module": "@jupyter-widgets/base",
      "model_module_version": "2.0.0",
      "model_name": "LayoutModel",
      "state": {}
     },
     "57ffb911e79a44fdbcc123fd8fbc41d9": {
      "model_module": "qgridnext",
      "model_module_version": "2.0.4",
      "model_name": "QgridModel",
      "state": {
       "_columns": {
        "Coeficiente_Asimetria": {
         "cssClass": "string",
         "defaultSortAsc": true,
         "editable": true,
         "field": "Coeficiente_Asimetria",
         "id": "Coeficiente_Asimetria",
         "minWidth": 30,
         "name": "Coeficiente_Asimetria",
         "position": 13,
         "resizable": true,
         "sortable": true,
         "toolTip": "",
         "type": "string"
        },
        "Coeficiente_Variacion": {
         "cssClass": "number",
         "defaultSortAsc": true,
         "editable": true,
         "field": "Coeficiente_Variacion",
         "id": "Coeficiente_Variacion",
         "minWidth": 30,
         "name": "Coeficiente_Variacion",
         "position": 11,
         "resizable": true,
         "sortable": true,
         "toolTip": "",
         "type": "number"
        },
        "Curtosis": {
         "cssClass": "string",
         "defaultSortAsc": true,
         "editable": true,
         "field": "Curtosis",
         "id": "Curtosis",
         "minWidth": 30,
         "name": "Curtosis",
         "position": 14,
         "resizable": true,
         "sortable": true,
         "toolTip": "",
         "type": "string"
        },
        "Desviacion_Estandar": {
         "cssClass": "string",
         "defaultSortAsc": true,
         "editable": true,
         "field": "Desviacion_Estandar",
         "id": "Desviacion_Estandar",
         "minWidth": 30,
         "name": "Desviacion_Estandar",
         "position": 10,
         "resizable": true,
         "sortable": true,
         "toolTip": "",
         "type": "string"
        },
        "Maximo": {
         "cssClass": "number",
         "defaultSortAsc": true,
         "editable": true,
         "field": "Maximo",
         "id": "Maximo",
         "minWidth": 30,
         "name": "Maximo",
         "position": 5,
         "resizable": true,
         "sortable": true,
         "toolTip": "",
         "type": "number"
        },
        "Mediana": {
         "cssClass": "string",
         "defaultSortAsc": true,
         "editable": true,
         "field": "Mediana",
         "id": "Mediana",
         "minWidth": 30,
         "name": "Mediana",
         "position": 8,
         "resizable": true,
         "sortable": true,
         "toolTip": "",
         "type": "string"
        },
        "Minimo": {
         "cssClass": "number",
         "defaultSortAsc": true,
         "editable": true,
         "field": "Minimo",
         "id": "Minimo",
         "minWidth": 30,
         "name": "Minimo",
         "position": 4,
         "resizable": true,
         "sortable": true,
         "toolTip": "",
         "type": "number"
        },
        "Moda": {
         "cssClass": "string",
         "defaultSortAsc": true,
         "editable": true,
         "field": "Moda",
         "id": "Moda",
         "minWidth": 30,
         "name": "Moda",
         "position": 9,
         "resizable": true,
         "sortable": true,
         "toolTip": "",
         "type": "string"
        },
        "Promedio": {
         "cssClass": "string",
         "defaultSortAsc": true,
         "editable": true,
         "field": "Promedio",
         "id": "Promedio",
         "minWidth": 30,
         "name": "Promedio",
         "position": 7,
         "resizable": true,
         "sortable": true,
         "toolTip": "",
         "type": "string"
        },
        "Rango": {
         "cssClass": "number",
         "defaultSortAsc": true,
         "editable": true,
         "field": "Rango",
         "id": "Rango",
         "minWidth": 30,
         "name": "Rango",
         "position": 6,
         "resizable": true,
         "sortable": true,
         "toolTip": "",
         "type": "number"
        },
        "Tipo": {
         "cssClass": "string",
         "defaultSortAsc": true,
         "editable": true,
         "field": "Tipo",
         "id": "Tipo",
         "minWidth": 30,
         "name": "Tipo",
         "position": 3,
         "resizable": true,
         "sortable": true,
         "toolTip": "",
         "type": "string"
        },
        "Variable": {
         "cssClass": "string",
         "defaultSortAsc": true,
         "editable": true,
         "field": "Variable",
         "id": "Variable",
         "minWidth": 30,
         "name": "Variable",
         "position": 2,
         "resizable": true,
         "sortable": true,
         "toolTip": "",
         "type": "string"
        },
        "Varianza": {
         "cssClass": "string",
         "defaultSortAsc": true,
         "editable": true,
         "field": "Varianza",
         "id": "Varianza",
         "minWidth": 30,
         "name": "Varianza",
         "position": 12,
         "resizable": true,
         "sortable": true,
         "toolTip": "",
         "type": "string"
        },
        "index": {
         "cssClass": "string first-idx-col idx-col",
         "defaultSortAsc": true,
         "editable": true,
         "field": "index",
         "first_index": true,
         "id": "index",
         "index_display_text": "",
         "is_index": true,
         "level": 0,
         "minWidth": 30,
         "name": "",
         "position": 0,
         "resizable": true,
         "sortable": true,
         "toolTip": "",
         "type": "string"
        },
        "qgrid_unfiltered_index": {
         "cssClass": "integer",
         "defaultSortAsc": true,
         "editable": true,
         "field": "qgrid_unfiltered_index",
         "id": "qgrid_unfiltered_index",
         "maxWidth": null,
         "minWidth": 30,
         "name": "qgrid_unfiltered_index",
         "position": 1,
         "resizable": true,
         "sortable": true,
         "toolTip": "",
         "type": "integer",
         "width": null
        }
       },
       "_df_json": "{\"schema\":{\"fields\":[{\"name\":\"index\",\"type\":\"string\"},{\"name\":\"qgrid_unfiltered_index\",\"type\":\"integer\"},{\"name\":\"Variable\",\"type\":\"string\"},{\"name\":\"Tipo\",\"type\":\"string\"},{\"name\":\"Minimo\",\"type\":\"number\"},{\"name\":\"Maximo\",\"type\":\"number\"},{\"name\":\"Rango\",\"type\":\"number\"},{\"name\":\"Promedio\",\"type\":\"string\"},{\"name\":\"Mediana\",\"type\":\"string\"},{\"name\":\"Moda\",\"type\":\"string\"},{\"name\":\"Desviacion_Estandar\",\"type\":\"string\"},{\"name\":\"Coeficiente_Variacion\",\"type\":\"number\"},{\"name\":\"Varianza\",\"type\":\"string\"},{\"name\":\"Coeficiente_Asimetria\",\"type\":\"string\"},{\"name\":\"Curtosis\",\"type\":\"string\"}],\"primaryKey\":[\"index\"],\"pandas_version\":\"1.4.0\"},\"data\":[{\"index\":\"id_upm\",\"qgrid_unfiltered_index\":0,\"Variable\":\"id_upm\",\"Tipo\":\"Categ\\u00f3rica\",\"Minimo\":null,\"Maximo\":null,\"Rango\":null,\"Promedio\":\"No aplica\",\"Mediana\":\"No aplica\",\"Moda\":\"0801500144\",\"Desviacion_Estandar\":\"No aplica\",\"Coeficiente_Variacion\":null,\"Varianza\":\"No aplica\",\"Coeficiente_Asimetria\":\"No aplica\",\"Curtosis\":\"No aplica\"},{\"index\":\"id_viv\",\"qgrid_unfiltered_index\":1,\"Variable\":\"id_viv\",\"Tipo\":\"Categ\\u00f3rica\",\"Minimo\":null,\"Maximo\":null,\"Rango\":null,\"Promedio\":\"No aplica\",\"Mediana\":\"No aplica\",\"Moda\":\"090150107405\",\"Desviacion_Estandar\":\"No aplica\",\"Coeficiente_Variacion\":null,\"Varianza\":\"No aplica\",\"Coeficiente_Asimetria\":\"No aplica\",\"Curtosis\":\"No aplica\"},{\"index\":\"id_hogar\",\"qgrid_unfiltered_index\":2,\"Variable\":\"id_hogar\",\"Tipo\":\"Categ\\u00f3rica\",\"Minimo\":null,\"Maximo\":null,\"Rango\":null,\"Promedio\":\"No aplica\",\"Mediana\":\"No aplica\",\"Moda\":\"01015000070101\",\"Desviacion_Estandar\":\"No aplica\",\"Coeficiente_Variacion\":null,\"Varianza\":\"No aplica\",\"Coeficiente_Asimetria\":\"No aplica\",\"Curtosis\":\"No aplica\"},{\"index\":\"fecha_anio\",\"qgrid_unfiltered_index\":3,\"Variable\":\"fecha_anio\",\"Tipo\":\"Categ\\u00f3rica\",\"Minimo\":null,\"Maximo\":null,\"Rango\":null,\"Promedio\":\"No aplica\",\"Mediana\":\"No aplica\",\"Moda\":\"2024\",\"Desviacion_Estandar\":\"No aplica\",\"Coeficiente_Variacion\":null,\"Varianza\":\"No aplica\",\"Coeficiente_Asimetria\":\"No aplica\",\"Curtosis\":\"No aplica\"},{\"index\":\"fecha_mes\",\"qgrid_unfiltered_index\":4,\"Variable\":\"fecha_mes\",\"Tipo\":\"Categ\\u00f3rica\",\"Minimo\":null,\"Maximo\":null,\"Rango\":null,\"Promedio\":\"No aplica\",\"Mediana\":\"No aplica\",\"Moda\":\"07\",\"Desviacion_Estandar\":\"No aplica\",\"Coeficiente_Variacion\":null,\"Varianza\":\"No aplica\",\"Coeficiente_Asimetria\":\"No aplica\",\"Curtosis\":\"No aplica\"},{\"index\":\"fecha_dia\",\"qgrid_unfiltered_index\":5,\"Variable\":\"fecha_dia\",\"Tipo\":\"Categ\\u00f3rica\",\"Minimo\":null,\"Maximo\":null,\"Rango\":null,\"Promedio\":\"No aplica\",\"Mediana\":\"No aplica\",\"Moda\":\"18\",\"Desviacion_Estandar\":\"No aplica\",\"Coeficiente_Variacion\":null,\"Varianza\":\"No aplica\",\"Coeficiente_Asimetria\":\"No aplica\",\"Curtosis\":\"No aplica\"},{\"index\":\"fexp\",\"qgrid_unfiltered_index\":6,\"Variable\":\"fexp\",\"Tipo\":\"Num\\u00e9rica\",\"Minimo\":0.03043,\"Maximo\":19.37927,\"Rango\":19.34883,\"Promedio\":\"0.99\",\"Mediana\":\"0.57\",\"Moda\":\"0.756019210569386\",\"Desviacion_Estandar\":\"1.31\",\"Coeficiente_Variacion\":1.32,\"Varianza\":\"1.71\",\"Coeficiente_Asimetria\":\"4.87\",\"Curtosis\":\"39.96\"},{\"index\":\"estrato\",\"qgrid_unfiltered_index\":7,\"Variable\":\"estrato\",\"Tipo\":\"Categ\\u00f3rica\",\"Minimo\":null,\"Maximo\":null,\"Rango\":null,\"Promedio\":\"No aplica\",\"Mediana\":\"No aplica\",\"Moda\":\"2512\",\"Desviacion_Estandar\":\"No aplica\",\"Coeficiente_Variacion\":null,\"Varianza\":\"No aplica\",\"Coeficiente_Asimetria\":\"No aplica\",\"Curtosis\":\"No aplica\"},{\"index\":\"area\",\"qgrid_unfiltered_index\":8,\"Variable\":\"area\",\"Tipo\":\"Num\\u00e9rica\",\"Minimo\":1.0,\"Maximo\":2.0,\"Rango\":1.0,\"Promedio\":\"1.38\",\"Mediana\":\"1.0\",\"Moda\":\"1.0\",\"Desviacion_Estandar\":\"0.49\",\"Coeficiente_Variacion\":0.35,\"Varianza\":\"0.24\",\"Coeficiente_Asimetria\":\"0.49\",\"Curtosis\":\"-1.76\"},{\"index\":\"region\",\"qgrid_unfiltered_index\":9,\"Variable\":\"region\",\"Tipo\":\"Num\\u00e9rica\",\"Minimo\":1.0,\"Maximo\":3.0,\"Rango\":2.0,\"Promedio\":\"1.68\",\"Mediana\":\"1.0\",\"Moda\":\"1.0\",\"Desviacion_Estandar\":\"0.78\",\"Coeficiente_Variacion\":0.46,\"Varianza\":\"0.61\",\"Coeficiente_Asimetria\":\"0.62\",\"Curtosis\":\"-1.1\"},{\"index\":\"prov\",\"qgrid_unfiltered_index\":10,\"Variable\":\"prov\",\"Tipo\":\"Num\\u00e9rica\",\"Minimo\":1.0,\"Maximo\":24.0,\"Rango\":23.0,\"Promedio\":\"12.44\",\"Mediana\":\"13.0\",\"Moda\":\"17.0\",\"Desviacion_Estandar\":\"6.74\",\"Coeficiente_Variacion\":0.54,\"Varianza\":\"45.36\",\"Coeficiente_Asimetria\":\"-0.03\",\"Curtosis\":\"-1.13\"},{\"index\":\"f1_s3_1\",\"qgrid_unfiltered_index\":11,\"Variable\":\"f1_s3_1\",\"Tipo\":\"int32\",\"Minimo\":1.0,\"Maximo\":8.0,\"Rango\":7.0,\"Promedio\":\"2.35\",\"Mediana\":\"1.0\",\"Moda\":\"1\",\"Desviacion_Estandar\":\"2.11\",\"Coeficiente_Variacion\":0.9,\"Varianza\":\"4.44\",\"Coeficiente_Asimetria\":\"1.34\",\"Curtosis\":\"0.3\"},{\"index\":\"f1_s3_2\",\"qgrid_unfiltered_index\":12,\"Variable\":\"f1_s3_2\",\"Tipo\":\"int32\",\"Minimo\":1.0,\"Maximo\":8.0,\"Rango\":7.0,\"Promedio\":\"1.84\",\"Mediana\":\"1.0\",\"Moda\":\"1\",\"Desviacion_Estandar\":\"1.18\",\"Coeficiente_Variacion\":0.64,\"Varianza\":\"1.4\",\"Coeficiente_Asimetria\":\"1.55\",\"Curtosis\":\"1.64\"},{\"index\":\"f1_s3_3\",\"qgrid_unfiltered_index\":13,\"Variable\":\"f1_s3_3\",\"Tipo\":\"int32\",\"Minimo\":1.0,\"Maximo\":6.0,\"Rango\":5.0,\"Promedio\":\"2.29\",\"Mediana\":\"3.0\",\"Moda\":\"3\",\"Desviacion_Estandar\":\"1.04\",\"Coeficiente_Variacion\":0.45,\"Varianza\":\"1.08\",\"Coeficiente_Asimetria\":\"0.25\",\"Curtosis\":\"0.08\"},{\"index\":\"f1_s3_4\",\"qgrid_unfiltered_index\":14,\"Variable\":\"f1_s3_4\",\"Tipo\":\"int32\",\"Minimo\":1.0,\"Maximo\":3.0,\"Rango\":2.0,\"Promedio\":\"1.64\",\"Mediana\":\"2.0\",\"Moda\":\"1\",\"Desviacion_Estandar\":\"0.66\",\"Coeficiente_Variacion\":0.4,\"Varianza\":\"0.44\",\"Coeficiente_Asimetria\":\"0.54\",\"Curtosis\":\"-0.71\"},{\"index\":\"f1_s3_5\",\"qgrid_unfiltered_index\":15,\"Variable\":\"f1_s3_5\",\"Tipo\":\"int32\",\"Minimo\":1.0,\"Maximo\":8.0,\"Rango\":7.0,\"Promedio\":\"2.43\",\"Mediana\":\"2.0\",\"Moda\":\"2\",\"Desviacion_Estandar\":\"1.18\",\"Coeficiente_Variacion\":0.49,\"Varianza\":\"1.4\",\"Coeficiente_Asimetria\":\"2.44\",\"Curtosis\":\"5.22\"},{\"index\":\"f1_s3_6\",\"qgrid_unfiltered_index\":16,\"Variable\":\"f1_s3_6\",\"Tipo\":\"int32\",\"Minimo\":1.0,\"Maximo\":3.0,\"Rango\":2.0,\"Promedio\":\"1.62\",\"Mediana\":\"2.0\",\"Moda\":\"2\",\"Desviacion_Estandar\":\"0.63\",\"Coeficiente_Variacion\":0.39,\"Varianza\":\"0.39\",\"Coeficiente_Asimetria\":\"0.49\",\"Curtosis\":\"-0.65\"},{\"index\":\"f1_s3_7\",\"qgrid_unfiltered_index\":17,\"Variable\":\"f1_s3_7\",\"Tipo\":\"int32\",\"Minimo\":1.0,\"Maximo\":8.0,\"Rango\":7.0,\"Promedio\":\"3.09\",\"Mediana\":\"2.0\",\"Moda\":\"2\",\"Desviacion_Estandar\":\"1.42\",\"Coeficiente_Variacion\":0.46,\"Varianza\":\"2.02\",\"Coeficiente_Asimetria\":\"0.5\",\"Curtosis\":\"-0.39\"},{\"index\":\"f1_s3_8\",\"qgrid_unfiltered_index\":18,\"Variable\":\"f1_s3_8\",\"Tipo\":\"int32\",\"Minimo\":1.0,\"Maximo\":3.0,\"Rango\":2.0,\"Promedio\":\"1.6\",\"Mediana\":\"2.0\",\"Moda\":\"1\",\"Desviacion_Estandar\":\"0.66\",\"Coeficiente_Variacion\":0.41,\"Varianza\":\"0.44\",\"Coeficiente_Asimetria\":\"0.65\",\"Curtosis\":\"-0.63\"},{\"index\":\"f1_s3_9\",\"qgrid_unfiltered_index\":19,\"Variable\":\"f1_s3_9\",\"Tipo\":\"int32\",\"Minimo\":1.0,\"Maximo\":4.0,\"Rango\":3.0,\"Promedio\":\"1.37\",\"Mediana\":\"1.0\",\"Moda\":\"1\",\"Desviacion_Estandar\":\"0.81\",\"Coeficiente_Variacion\":0.59,\"Varianza\":\"0.66\",\"Coeficiente_Asimetria\":\"2.42\",\"Curtosis\":\"4.94\"},{\"index\":\"f1_s3_10\",\"qgrid_unfiltered_index\":20,\"Variable\":\"f1_s3_10\",\"Tipo\":\"int32\",\"Minimo\":1.0,\"Maximo\":5.0,\"Rango\":4.0,\"Promedio\":\"1.64\",\"Mediana\":\"1.0\",\"Moda\":\"1\",\"Desviacion_Estandar\":\"1.09\",\"Coeficiente_Variacion\":0.67,\"Varianza\":\"1.19\",\"Coeficiente_Asimetria\":\"2.02\",\"Curtosis\":\"3.36\"},{\"index\":\"f1_s3_11\",\"qgrid_unfiltered_index\":21,\"Variable\":\"f1_s3_11\",\"Tipo\":\"int32\",\"Minimo\":1.0,\"Maximo\":7.0,\"Rango\":6.0,\"Promedio\":\"1.79\",\"Mediana\":\"1.0\",\"Moda\":\"1\",\"Desviacion_Estandar\":\"1.59\",\"Coeficiente_Variacion\":0.89,\"Varianza\":\"2.54\",\"Coeficiente_Asimetria\":\"2.48\",\"Curtosis\":\"5.05\"},{\"index\":\"f1_s3_11_a\",\"qgrid_unfiltered_index\":22,\"Variable\":\"f1_s3_11_a\",\"Tipo\":\"Categ\\u00f3rica\",\"Minimo\":null,\"Maximo\":null,\"Rango\":null,\"Promedio\":\"No aplica\",\"Mediana\":\"No aplica\",\"Moda\":\"1\",\"Desviacion_Estandar\":\"No aplica\",\"Coeficiente_Variacion\":null,\"Varianza\":\"No aplica\",\"Coeficiente_Asimetria\":\"No aplica\",\"Curtosis\":\"No aplica\"},{\"index\":\"f1_s3_11_b\",\"qgrid_unfiltered_index\":23,\"Variable\":\"f1_s3_11_b\",\"Tipo\":\"Categ\\u00f3rica\",\"Minimo\":null,\"Maximo\":null,\"Rango\":null,\"Promedio\":\"No aplica\",\"Mediana\":\"No aplica\",\"Moda\":\"1\",\"Desviacion_Estandar\":\"No aplica\",\"Coeficiente_Variacion\":null,\"Varianza\":\"No aplica\",\"Coeficiente_Asimetria\":\"No aplica\",\"Curtosis\":\"No aplica\"},{\"index\":\"f1_s3_11_c\",\"qgrid_unfiltered_index\":24,\"Variable\":\"f1_s3_11_c\",\"Tipo\":\"Categ\\u00f3rica\",\"Minimo\":null,\"Maximo\":null,\"Rango\":null,\"Promedio\":\"No aplica\",\"Mediana\":\"No aplica\",\"Moda\":\"2\",\"Desviacion_Estandar\":\"No aplica\",\"Coeficiente_Variacion\":null,\"Varianza\":\"No aplica\",\"Coeficiente_Asimetria\":\"No aplica\",\"Curtosis\":\"No aplica\"},{\"index\":\"f1_s3_11_d\",\"qgrid_unfiltered_index\":25,\"Variable\":\"f1_s3_11_d\",\"Tipo\":\"Categ\\u00f3rica\",\"Minimo\":null,\"Maximo\":null,\"Rango\":null,\"Promedio\":\"No aplica\",\"Mediana\":\"No aplica\",\"Moda\":\"2\",\"Desviacion_Estandar\":\"No aplica\",\"Coeficiente_Variacion\":null,\"Varianza\":\"No aplica\",\"Coeficiente_Asimetria\":\"No aplica\",\"Curtosis\":\"No aplica\"},{\"index\":\"f1_s3_11_e\",\"qgrid_unfiltered_index\":26,\"Variable\":\"f1_s3_11_e\",\"Tipo\":\"Categ\\u00f3rica\",\"Minimo\":null,\"Maximo\":null,\"Rango\":null,\"Promedio\":\"No aplica\",\"Mediana\":\"No aplica\",\"Moda\":\"2\",\"Desviacion_Estandar\":\"No aplica\",\"Coeficiente_Variacion\":null,\"Varianza\":\"No aplica\",\"Coeficiente_Asimetria\":\"No aplica\",\"Curtosis\":\"No aplica\"},{\"index\":\"f1_s3_11_f\",\"qgrid_unfiltered_index\":27,\"Variable\":\"f1_s3_11_f\",\"Tipo\":\"Categ\\u00f3rica\",\"Minimo\":null,\"Maximo\":null,\"Rango\":null,\"Promedio\":\"No aplica\",\"Mediana\":\"No aplica\",\"Moda\":\"2\",\"Desviacion_Estandar\":\"No aplica\",\"Coeficiente_Variacion\":null,\"Varianza\":\"No aplica\",\"Coeficiente_Asimetria\":\"No aplica\",\"Curtosis\":\"No aplica\"},{\"index\":\"f1_s3_12\",\"qgrid_unfiltered_index\":28,\"Variable\":\"f1_s3_12\",\"Tipo\":\"int32\",\"Minimo\":1.0,\"Maximo\":2.0,\"Rango\":1.0,\"Promedio\":\"1.01\",\"Mediana\":\"1.0\",\"Moda\":\"1\",\"Desviacion_Estandar\":\"0.11\",\"Coeficiente_Variacion\":0.11,\"Varianza\":\"0.01\",\"Coeficiente_Asimetria\":\"8.95\",\"Curtosis\":\"78.08\"},{\"index\":\"f1_s3_13\",\"qgrid_unfiltered_index\":29,\"Variable\":\"f1_s3_13\",\"Tipo\":\"int32\",\"Minimo\":1.0,\"Maximo\":5.0,\"Rango\":4.0,\"Promedio\":\"4.98\",\"Mediana\":\"5.0\",\"Moda\":\"5\",\"Desviacion_Estandar\":\"0.3\",\"Coeficiente_Variacion\":0.06,\"Varianza\":\"0.09\",\"Coeficiente_Asimetria\":\"-12.51\",\"Curtosis\":\"156.41\"},{\"index\":\"f1_s3_14\",\"qgrid_unfiltered_index\":30,\"Variable\":\"f1_s3_14\",\"Tipo\":\"int32\",\"Minimo\":1.0,\"Maximo\":7.0,\"Rango\":6.0,\"Promedio\":\"1.48\",\"Mediana\":\"1.0\",\"Moda\":\"1\",\"Desviacion_Estandar\":\"1.01\",\"Coeficiente_Variacion\":0.68,\"Varianza\":\"1.03\",\"Coeficiente_Asimetria\":\"2.16\",\"Curtosis\":\"3.65\"},{\"index\":\"f1_s3_15\",\"qgrid_unfiltered_index\":31,\"Variable\":\"f1_s3_15\",\"Tipo\":\"Num\\u00e9rica\",\"Minimo\":1.0,\"Maximo\":12.0,\"Rango\":11.0,\"Promedio\":\"3.1\",\"Mediana\":\"3.0\",\"Moda\":\"3.0\",\"Desviacion_Estandar\":\"1.29\",\"Coeficiente_Variacion\":0.42,\"Varianza\":\"1.65\",\"Coeficiente_Asimetria\":\"0.44\",\"Curtosis\":\"0.99\"},{\"index\":\"f1_s3_16\",\"qgrid_unfiltered_index\":32,\"Variable\":\"f1_s3_16\",\"Tipo\":\"Num\\u00e9rica\",\"Minimo\":0.0,\"Maximo\":9.0,\"Rango\":9.0,\"Promedio\":\"2.16\",\"Mediana\":\"2.0\",\"Moda\":\"2.0\",\"Desviacion_Estandar\":\"1.09\",\"Coeficiente_Variacion\":0.5,\"Varianza\":\"1.18\",\"Coeficiente_Asimetria\":\"0.43\",\"Curtosis\":\"1.07\"},{\"index\":\"f1_s3_17\",\"qgrid_unfiltered_index\":33,\"Variable\":\"f1_s3_17\",\"Tipo\":\"int32\",\"Minimo\":1.0,\"Maximo\":2.0,\"Rango\":1.0,\"Promedio\":\"1.11\",\"Mediana\":\"1.0\",\"Moda\":\"1\",\"Desviacion_Estandar\":\"0.31\",\"Coeficiente_Variacion\":0.28,\"Varianza\":\"0.1\",\"Coeficiente_Asimetria\":\"2.51\",\"Curtosis\":\"4.31\"},{\"index\":\"f1_s3_18\",\"qgrid_unfiltered_index\":34,\"Variable\":\"f1_s3_18\",\"Tipo\":\"int32\",\"Minimo\":1.0,\"Maximo\":3.0,\"Rango\":2.0,\"Promedio\":\"1.18\",\"Mediana\":\"1.0\",\"Moda\":\"1\",\"Desviacion_Estandar\":\"0.5\",\"Coeficiente_Variacion\":0.43,\"Varianza\":\"0.25\",\"Coeficiente_Asimetria\":\"2.72\",\"Curtosis\":\"6.29\"},{\"index\":\"f1_s3_19\",\"qgrid_unfiltered_index\":35,\"Variable\":\"f1_s3_19\",\"Tipo\":\"int32\",\"Minimo\":1.0,\"Maximo\":3.0,\"Rango\":2.0,\"Promedio\":\"1.3\",\"Mediana\":\"1.0\",\"Moda\":\"1\",\"Desviacion_Estandar\":\"0.66\",\"Coeficiente_Variacion\":0.51,\"Varianza\":\"0.44\",\"Coeficiente_Asimetria\":\"1.94\",\"Curtosis\":\"2.06\"},{\"index\":\"f1_s3_20\",\"qgrid_unfiltered_index\":36,\"Variable\":\"f1_s3_20\",\"Tipo\":\"int32\",\"Minimo\":1.0,\"Maximo\":7.0,\"Rango\":6.0,\"Promedio\":\"1.12\",\"Mediana\":\"1.0\",\"Moda\":\"1\",\"Desviacion_Estandar\":\"0.58\",\"Coeficiente_Variacion\":0.52,\"Varianza\":\"0.34\",\"Coeficiente_Asimetria\":\"5.01\",\"Curtosis\":\"26.84\"},{\"index\":\"f1_s3_21\",\"qgrid_unfiltered_index\":37,\"Variable\":\"f1_s3_21\",\"Tipo\":\"int32\",\"Minimo\":1.0,\"Maximo\":6.0,\"Rango\":5.0,\"Promedio\":\"3.05\",\"Mediana\":\"4.0\",\"Moda\":\"1\",\"Desviacion_Estandar\":\"1.69\",\"Coeficiente_Variacion\":0.55,\"Varianza\":\"2.84\",\"Coeficiente_Asimetria\":\"-0.15\",\"Curtosis\":\"-1.62\"},{\"index\":\"f1_s3_22\",\"qgrid_unfiltered_index\":38,\"Variable\":\"f1_s3_22\",\"Tipo\":\"Categ\\u00f3rica\",\"Minimo\":null,\"Maximo\":null,\"Rango\":null,\"Promedio\":\"No aplica\",\"Mediana\":\"No aplica\",\"Moda\":\"100\",\"Desviacion_Estandar\":\"No aplica\",\"Coeficiente_Variacion\":null,\"Varianza\":\"No aplica\",\"Coeficiente_Asimetria\":\"No aplica\",\"Curtosis\":\"No aplica\"},{\"index\":\"f1_s3_23\",\"qgrid_unfiltered_index\":39,\"Variable\":\"f1_s3_23\",\"Tipo\":\"int32\",\"Minimo\":1.0,\"Maximo\":2.0,\"Rango\":1.0,\"Promedio\":\"1.18\",\"Mediana\":\"1.0\",\"Moda\":\"1\",\"Desviacion_Estandar\":\"0.38\",\"Coeficiente_Variacion\":0.33,\"Varianza\":\"0.15\",\"Coeficiente_Asimetria\":\"1.66\",\"Curtosis\":\"0.77\"},{\"index\":\"f1_s3_24\",\"qgrid_unfiltered_index\":40,\"Variable\":\"f1_s3_24\",\"Tipo\":\"int32\",\"Minimo\":1.0,\"Maximo\":2.0,\"Rango\":1.0,\"Promedio\":\"1.07\",\"Mediana\":\"1.0\",\"Moda\":\"1\",\"Desviacion_Estandar\":\"0.25\",\"Coeficiente_Variacion\":0.24,\"Varianza\":\"0.06\",\"Coeficiente_Asimetria\":\"3.44\",\"Curtosis\":\"9.86\"},{\"index\":\"f1_s3_25\",\"qgrid_unfiltered_index\":41,\"Variable\":\"f1_s3_25\",\"Tipo\":\"Categ\\u00f3rica\",\"Minimo\":null,\"Maximo\":null,\"Rango\":null,\"Promedio\":\"No aplica\",\"Mediana\":\"No aplica\",\"Moda\":\"1\",\"Desviacion_Estandar\":\"No aplica\",\"Coeficiente_Variacion\":null,\"Varianza\":\"No aplica\",\"Coeficiente_Asimetria\":\"No aplica\",\"Curtosis\":\"No aplica\"},{\"index\":\"f1_s3_26_a\",\"qgrid_unfiltered_index\":42,\"Variable\":\"f1_s3_26_a\",\"Tipo\":\"Categ\\u00f3rica\",\"Minimo\":null,\"Maximo\":null,\"Rango\":null,\"Promedio\":\"No aplica\",\"Mediana\":\"No aplica\",\"Moda\":\"1\",\"Desviacion_Estandar\":\"No aplica\",\"Coeficiente_Variacion\":null,\"Varianza\":\"No aplica\",\"Coeficiente_Asimetria\":\"No aplica\",\"Curtosis\":\"No aplica\"},{\"index\":\"f1_s3_26_b\",\"qgrid_unfiltered_index\":43,\"Variable\":\"f1_s3_26_b\",\"Tipo\":\"Categ\\u00f3rica\",\"Minimo\":null,\"Maximo\":null,\"Rango\":null,\"Promedio\":\"No aplica\",\"Mediana\":\"No aplica\",\"Moda\":\"2\",\"Desviacion_Estandar\":\"No aplica\",\"Coeficiente_Variacion\":null,\"Varianza\":\"No aplica\",\"Coeficiente_Asimetria\":\"No aplica\",\"Curtosis\":\"No aplica\"},{\"index\":\"f1_s3_26_c\",\"qgrid_unfiltered_index\":44,\"Variable\":\"f1_s3_26_c\",\"Tipo\":\"Categ\\u00f3rica\",\"Minimo\":null,\"Maximo\":null,\"Rango\":null,\"Promedio\":\"No aplica\",\"Mediana\":\"No aplica\",\"Moda\":\"2\",\"Desviacion_Estandar\":\"No aplica\",\"Coeficiente_Variacion\":null,\"Varianza\":\"No aplica\",\"Coeficiente_Asimetria\":\"No aplica\",\"Curtosis\":\"No aplica\"},{\"index\":\"f1_s3_26_d\",\"qgrid_unfiltered_index\":45,\"Variable\":\"f1_s3_26_d\",\"Tipo\":\"Categ\\u00f3rica\",\"Minimo\":null,\"Maximo\":null,\"Rango\":null,\"Promedio\":\"No aplica\",\"Mediana\":\"No aplica\",\"Moda\":\"2\",\"Desviacion_Estandar\":\"No aplica\",\"Coeficiente_Variacion\":null,\"Varianza\":\"No aplica\",\"Coeficiente_Asimetria\":\"No aplica\",\"Curtosis\":\"No aplica\"},{\"index\":\"f1_s3_27\",\"qgrid_unfiltered_index\":46,\"Variable\":\"f1_s3_27\",\"Tipo\":\"Categ\\u00f3rica\",\"Minimo\":null,\"Maximo\":null,\"Rango\":null,\"Promedio\":\"No aplica\",\"Mediana\":\"No aplica\",\"Moda\":\"2\",\"Desviacion_Estandar\":\"No aplica\",\"Coeficiente_Variacion\":null,\"Varianza\":\"No aplica\",\"Coeficiente_Asimetria\":\"No aplica\",\"Curtosis\":\"No aplica\"},{\"index\":\"f1_s3_28\",\"qgrid_unfiltered_index\":47,\"Variable\":\"f1_s3_28\",\"Tipo\":\"Categ\\u00f3rica\",\"Minimo\":null,\"Maximo\":null,\"Rango\":null,\"Promedio\":\"No aplica\",\"Mediana\":\"No aplica\",\"Moda\":\"1\",\"Desviacion_Estandar\":\"No aplica\",\"Coeficiente_Variacion\":null,\"Varianza\":\"No aplica\",\"Coeficiente_Asimetria\":\"No aplica\",\"Curtosis\":\"No aplica\"},{\"index\":\"f1_s3_29_a\",\"qgrid_unfiltered_index\":48,\"Variable\":\"f1_s3_29_a\",\"Tipo\":\"Categ\\u00f3rica\",\"Minimo\":null,\"Maximo\":null,\"Rango\":null,\"Promedio\":\"No aplica\",\"Mediana\":\"No aplica\",\"Moda\":\"1\",\"Desviacion_Estandar\":\"No aplica\",\"Coeficiente_Variacion\":null,\"Varianza\":\"No aplica\",\"Coeficiente_Asimetria\":\"No aplica\",\"Curtosis\":\"No aplica\"},{\"index\":\"f1_s3_29_b\",\"qgrid_unfiltered_index\":49,\"Variable\":\"f1_s3_29_b\",\"Tipo\":\"Categ\\u00f3rica\",\"Minimo\":null,\"Maximo\":null,\"Rango\":null,\"Promedio\":\"No aplica\",\"Mediana\":\"No aplica\",\"Moda\":\"2\",\"Desviacion_Estandar\":\"No aplica\",\"Coeficiente_Variacion\":null,\"Varianza\":\"No aplica\",\"Coeficiente_Asimetria\":\"No aplica\",\"Curtosis\":\"No aplica\"},{\"index\":\"f1_s3_29_c\",\"qgrid_unfiltered_index\":50,\"Variable\":\"f1_s3_29_c\",\"Tipo\":\"Categ\\u00f3rica\",\"Minimo\":null,\"Maximo\":null,\"Rango\":null,\"Promedio\":\"No aplica\",\"Mediana\":\"No aplica\",\"Moda\":\"2\",\"Desviacion_Estandar\":\"No aplica\",\"Coeficiente_Variacion\":null,\"Varianza\":\"No aplica\",\"Coeficiente_Asimetria\":\"No aplica\",\"Curtosis\":\"No aplica\"},{\"index\":\"f1_s3_29_d\",\"qgrid_unfiltered_index\":51,\"Variable\":\"f1_s3_29_d\",\"Tipo\":\"Categ\\u00f3rica\",\"Minimo\":null,\"Maximo\":null,\"Rango\":null,\"Promedio\":\"No aplica\",\"Mediana\":\"No aplica\",\"Moda\":\"2\",\"Desviacion_Estandar\":\"No aplica\",\"Coeficiente_Variacion\":null,\"Varianza\":\"No aplica\",\"Coeficiente_Asimetria\":\"No aplica\",\"Curtosis\":\"No aplica\"},{\"index\":\"f1_s4_1_1\",\"qgrid_unfiltered_index\":52,\"Variable\":\"f1_s4_1_1\",\"Tipo\":\"int32\",\"Minimo\":1.0,\"Maximo\":8.0,\"Rango\":7.0,\"Promedio\":\"1.41\",\"Mediana\":\"1.0\",\"Moda\":\"1\",\"Desviacion_Estandar\":\"0.51\",\"Coeficiente_Variacion\":0.36,\"Varianza\":\"0.26\",\"Coeficiente_Asimetria\":\"0.97\",\"Curtosis\":\"6.59\"},{\"index\":\"f1_s4_1_2\",\"qgrid_unfiltered_index\":53,\"Variable\":\"f1_s4_1_2\",\"Tipo\":\"int32\",\"Minimo\":1.0,\"Maximo\":8.0,\"Rango\":7.0,\"Promedio\":\"1.58\",\"Mediana\":\"2.0\",\"Moda\":\"2\",\"Desviacion_Estandar\":\"0.55\",\"Coeficiente_Variacion\":0.35,\"Varianza\":\"0.3\",\"Coeficiente_Asimetria\":\"1.84\",\"Curtosis\":\"22.44\"},{\"index\":\"f1_s4_1_3\",\"qgrid_unfiltered_index\":54,\"Variable\":\"f1_s4_1_3\",\"Tipo\":\"int32\",\"Minimo\":1.0,\"Maximo\":8.0,\"Rango\":7.0,\"Promedio\":\"1.6\",\"Mediana\":\"2.0\",\"Moda\":\"2\",\"Desviacion_Estandar\":\"0.56\",\"Coeficiente_Variacion\":0.35,\"Varianza\":\"0.31\",\"Coeficiente_Asimetria\":\"2.31\",\"Curtosis\":\"27.32\"},{\"index\":\"f1_s4_1_4\",\"qgrid_unfiltered_index\":55,\"Variable\":\"f1_s4_1_4\",\"Tipo\":\"int32\",\"Minimo\":1.0,\"Maximo\":8.0,\"Rango\":7.0,\"Promedio\":\"1.86\",\"Mediana\":\"2.0\",\"Moda\":\"2\",\"Desviacion_Estandar\":\"0.42\",\"Coeficiente_Variacion\":0.22,\"Varianza\":\"0.17\",\"Coeficiente_Asimetria\":\"2.69\",\"Curtosis\":\"58.04\"},{\"index\":\"f1_s4_1_5\",\"qgrid_unfiltered_index\":56,\"Variable\":\"f1_s4_1_5\",\"Tipo\":\"int32\",\"Minimo\":1.0,\"Maximo\":8.0,\"Rango\":7.0,\"Promedio\":\"1.73\",\"Mediana\":\"2.0\",\"Moda\":\"2\",\"Desviacion_Estandar\":\"0.48\",\"Coeficiente_Variacion\":0.28,\"Varianza\":\"0.23\",\"Coeficiente_Asimetria\":\"0.93\",\"Curtosis\":\"22.02\"},{\"index\":\"f1_s4_1_6\",\"qgrid_unfiltered_index\":57,\"Variable\":\"f1_s4_1_6\",\"Tipo\":\"int32\",\"Minimo\":1.0,\"Maximo\":8.0,\"Rango\":7.0,\"Promedio\":\"1.77\",\"Mediana\":\"2.0\",\"Moda\":\"2\",\"Desviacion_Estandar\":\"0.6\",\"Coeficiente_Variacion\":0.34,\"Varianza\":\"0.36\",\"Coeficiente_Asimetria\":\"4.39\",\"Curtosis\":\"48.6\"},{\"index\":\"f1_s4_1_7\",\"qgrid_unfiltered_index\":58,\"Variable\":\"f1_s4_1_7\",\"Tipo\":\"int32\",\"Minimo\":1.0,\"Maximo\":8.0,\"Rango\":7.0,\"Promedio\":\"1.84\",\"Mediana\":\"2.0\",\"Moda\":\"2\",\"Desviacion_Estandar\":\"0.43\",\"Coeficiente_Variacion\":0.23,\"Varianza\":\"0.18\",\"Coeficiente_Asimetria\":\"2.2\",\"Curtosis\":\"49.04\"},{\"index\":\"f1_s4_1_8\",\"qgrid_unfiltered_index\":59,\"Variable\":\"f1_s4_1_8\",\"Tipo\":\"int32\",\"Minimo\":1.0,\"Maximo\":8.0,\"Rango\":7.0,\"Promedio\":\"1.97\",\"Mediana\":\"2.0\",\"Moda\":\"2\",\"Desviacion_Estandar\":\"0.31\",\"Coeficiente_Variacion\":0.16,\"Varianza\":\"0.1\",\"Coeficiente_Asimetria\":\"10.43\",\"Curtosis\":\"227.33\"},{\"index\":\"f1_s4_2_1\",\"qgrid_unfiltered_index\":60,\"Variable\":\"f1_s4_2_1\",\"Tipo\":\"int32\",\"Minimo\":1.0,\"Maximo\":10.0,\"Rango\":9.0,\"Promedio\":\"1.97\",\"Mediana\":\"1.0\",\"Moda\":\"1\",\"Desviacion_Estandar\":\"1.69\",\"Coeficiente_Variacion\":0.86,\"Varianza\":\"2.87\",\"Coeficiente_Asimetria\":\"1.81\",\"Curtosis\":\"2.63\"},{\"index\":\"f1_s4_2_2\",\"qgrid_unfiltered_index\":61,\"Variable\":\"f1_s4_2_2\",\"Tipo\":\"int32\",\"Minimo\":1.0,\"Maximo\":88.0,\"Rango\":87.0,\"Promedio\":\"3.52\",\"Mediana\":\"3.0\",\"Moda\":\"2\",\"Desviacion_Estandar\":\"2.19\",\"Coeficiente_Variacion\":0.62,\"Varianza\":\"4.79\",\"Coeficiente_Asimetria\":\"14.57\",\"Curtosis\":\"548.58\"},{\"index\":\"f1_s4_2_3\",\"qgrid_unfiltered_index\":62,\"Variable\":\"f1_s4_2_3\",\"Tipo\":\"int32\",\"Minimo\":1.0,\"Maximo\":88.0,\"Rango\":87.0,\"Promedio\":\"4.29\",\"Mediana\":\"4.0\",\"Moda\":\"5\",\"Desviacion_Estandar\":\"2.88\",\"Coeficiente_Variacion\":0.67,\"Varianza\":\"8.31\",\"Coeficiente_Asimetria\":\"15.89\",\"Curtosis\":\"455.88\"},{\"index\":\"f1_s4_2_4\",\"qgrid_unfiltered_index\":63,\"Variable\":\"f1_s4_2_4\",\"Tipo\":\"int32\",\"Minimo\":1.0,\"Maximo\":88.0,\"Rango\":87.0,\"Promedio\":\"5.03\",\"Mediana\":\"5.0\",\"Moda\":\"5\",\"Desviacion_Estandar\":\"3.41\",\"Coeficiente_Variacion\":0.68,\"Varianza\":\"11.65\",\"Coeficiente_Asimetria\":\"14.22\",\"Curtosis\":\"343.44\"},{\"index\":\"f1_s4_2_5\",\"qgrid_unfiltered_index\":64,\"Variable\":\"f1_s4_2_5\",\"Tipo\":\"int32\",\"Minimo\":1.0,\"Maximo\":88.0,\"Rango\":87.0,\"Promedio\":\"5.83\",\"Mediana\":\"6.0\",\"Moda\":\"8\",\"Desviacion_Estandar\":\"5.34\",\"Coeficiente_Variacion\":0.92,\"Varianza\":\"28.56\",\"Coeficiente_Asimetria\":\"12.19\",\"Curtosis\":\"185.38\"},{\"index\":\"f1_s4_3\",\"qgrid_unfiltered_index\":65,\"Variable\":\"f1_s4_3\",\"Tipo\":\"int32\",\"Minimo\":1.0,\"Maximo\":8.0,\"Rango\":7.0,\"Promedio\":\"2.16\",\"Mediana\":\"2.0\",\"Moda\":\"2\",\"Desviacion_Estandar\":\"0.84\",\"Coeficiente_Variacion\":0.39,\"Varianza\":\"0.7\",\"Coeficiente_Asimetria\":\"2.22\",\"Curtosis\":\"13.82\"},{\"index\":\"f1_s4_4_a\",\"qgrid_unfiltered_index\":66,\"Variable\":\"f1_s4_4_a\",\"Tipo\":\"int32\",\"Minimo\":1.0,\"Maximo\":3.0,\"Rango\":2.0,\"Promedio\":\"2.19\",\"Mediana\":\"2.0\",\"Moda\":\"2\",\"Desviacion_Estandar\":\"0.63\",\"Coeficiente_Variacion\":0.29,\"Varianza\":\"0.4\",\"Coeficiente_Asimetria\":\"-0.17\",\"Curtosis\":\"-0.59\"},{\"index\":\"f1_s4_4_b\",\"qgrid_unfiltered_index\":67,\"Variable\":\"f1_s4_4_b\",\"Tipo\":\"int32\",\"Minimo\":1.0,\"Maximo\":3.0,\"Rango\":2.0,\"Promedio\":\"2.3\",\"Mediana\":\"2.0\",\"Moda\":\"2\",\"Desviacion_Estandar\":\"0.56\",\"Coeficiente_Variacion\":0.24,\"Varianza\":\"0.32\",\"Coeficiente_Asimetria\":\"-0.06\",\"Curtosis\":\"-0.59\"},{\"index\":\"f1_s4_4_c\",\"qgrid_unfiltered_index\":68,\"Variable\":\"f1_s4_4_c\",\"Tipo\":\"int32\",\"Minimo\":1.0,\"Maximo\":3.0,\"Rango\":2.0,\"Promedio\":\"2.32\",\"Mediana\":\"2.0\",\"Moda\":\"2\",\"Desviacion_Estandar\":\"0.63\",\"Coeficiente_Variacion\":0.27,\"Varianza\":\"0.39\",\"Coeficiente_Asimetria\":\"-0.38\",\"Curtosis\":\"-0.68\"},{\"index\":\"f1_s4_4_d\",\"qgrid_unfiltered_index\":69,\"Variable\":\"f1_s4_4_d\",\"Tipo\":\"int32\",\"Minimo\":1.0,\"Maximo\":3.0,\"Rango\":2.0,\"Promedio\":\"2.46\",\"Mediana\":\"3.0\",\"Moda\":\"3\",\"Desviacion_Estandar\":\"0.58\",\"Coeficiente_Variacion\":0.24,\"Varianza\":\"0.34\",\"Coeficiente_Asimetria\":\"-0.54\",\"Curtosis\":\"-0.65\"},{\"index\":\"f1_s4_4_e\",\"qgrid_unfiltered_index\":70,\"Variable\":\"f1_s4_4_e\",\"Tipo\":\"int32\",\"Minimo\":1.0,\"Maximo\":3.0,\"Rango\":2.0,\"Promedio\":\"2.38\",\"Mediana\":\"2.0\",\"Moda\":\"3\",\"Desviacion_Estandar\":\"0.64\",\"Coeficiente_Variacion\":0.27,\"Varianza\":\"0.4\",\"Coeficiente_Asimetria\":\"-0.54\",\"Curtosis\":\"-0.64\"},{\"index\":\"f1_s4_4_f\",\"qgrid_unfiltered_index\":71,\"Variable\":\"f1_s4_4_f\",\"Tipo\":\"int32\",\"Minimo\":1.0,\"Maximo\":3.0,\"Rango\":2.0,\"Promedio\":\"2.34\",\"Mediana\":\"2.0\",\"Moda\":\"2\",\"Desviacion_Estandar\":\"0.54\",\"Coeficiente_Variacion\":0.23,\"Varianza\":\"0.3\",\"Coeficiente_Asimetria\":\"-0.01\",\"Curtosis\":\"-0.78\"},{\"index\":\"f1_s7_1\",\"qgrid_unfiltered_index\":72,\"Variable\":\"f1_s7_1\",\"Tipo\":\"int32\",\"Minimo\":1.0,\"Maximo\":13.0,\"Rango\":12.0,\"Promedio\":\"2.92\",\"Mediana\":\"1.0\",\"Moda\":\"1\",\"Desviacion_Estandar\":\"2.45\",\"Coeficiente_Variacion\":0.84,\"Varianza\":\"6.03\",\"Coeficiente_Asimetria\":\"1.22\",\"Curtosis\":\"1.52\"},{\"index\":\"f1_s7_2\",\"qgrid_unfiltered_index\":73,\"Variable\":\"f1_s7_2\",\"Tipo\":\"Categ\\u00f3rica\",\"Minimo\":null,\"Maximo\":null,\"Rango\":null,\"Promedio\":\"No aplica\",\"Mediana\":\"No aplica\",\"Moda\":\"1\",\"Desviacion_Estandar\":\"No aplica\",\"Coeficiente_Variacion\":null,\"Varianza\":\"No aplica\",\"Coeficiente_Asimetria\":\"No aplica\",\"Curtosis\":\"No aplica\"},{\"index\":\"f1_s7_3\",\"qgrid_unfiltered_index\":74,\"Variable\":\"f1_s7_3\",\"Tipo\":\"Categ\\u00f3rica\",\"Minimo\":null,\"Maximo\":null,\"Rango\":null,\"Promedio\":\"No aplica\",\"Mediana\":\"No aplica\",\"Moda\":\"5\",\"Desviacion_Estandar\":\"No aplica\",\"Coeficiente_Variacion\":null,\"Varianza\":\"No aplica\",\"Coeficiente_Asimetria\":\"No aplica\",\"Curtosis\":\"No aplica\"},{\"index\":\"f1_s7_4\",\"qgrid_unfiltered_index\":75,\"Variable\":\"f1_s7_4\",\"Tipo\":\"int32\",\"Minimo\":1.0,\"Maximo\":3.0,\"Rango\":2.0,\"Promedio\":\"1.03\",\"Mediana\":\"1.0\",\"Moda\":\"1\",\"Desviacion_Estandar\":\"0.16\",\"Coeficiente_Variacion\":0.16,\"Varianza\":\"0.03\",\"Coeficiente_Asimetria\":\"6.37\",\"Curtosis\":\"41.48\"},{\"index\":\"f1_s7_5\",\"qgrid_unfiltered_index\":76,\"Variable\":\"f1_s7_5\",\"Tipo\":\"int32\",\"Minimo\":1.0,\"Maximo\":2.0,\"Rango\":1.0,\"Promedio\":\"1.02\",\"Mediana\":\"1.0\",\"Moda\":\"1\",\"Desviacion_Estandar\":\"0.15\",\"Coeficiente_Variacion\":0.15,\"Varianza\":\"0.02\",\"Coeficiente_Asimetria\":\"6.22\",\"Curtosis\":\"36.73\"},{\"index\":\"f1_s7_6_dia\",\"qgrid_unfiltered_index\":77,\"Variable\":\"f1_s7_6_dia\",\"Tipo\":\"Categ\\u00f3rica\",\"Minimo\":null,\"Maximo\":null,\"Rango\":null,\"Promedio\":\"No aplica\",\"Mediana\":\"No aplica\",\"Moda\":\"18\",\"Desviacion_Estandar\":\"No aplica\",\"Coeficiente_Variacion\":null,\"Varianza\":\"No aplica\",\"Coeficiente_Asimetria\":\"No aplica\",\"Curtosis\":\"No aplica\"},{\"index\":\"f1_s7_6_mes\",\"qgrid_unfiltered_index\":78,\"Variable\":\"f1_s7_6_mes\",\"Tipo\":\"Categ\\u00f3rica\",\"Minimo\":null,\"Maximo\":null,\"Rango\":null,\"Promedio\":\"No aplica\",\"Mediana\":\"No aplica\",\"Moda\":\"7\",\"Desviacion_Estandar\":\"No aplica\",\"Coeficiente_Variacion\":null,\"Varianza\":\"No aplica\",\"Coeficiente_Asimetria\":\"No aplica\",\"Curtosis\":\"No aplica\"},{\"index\":\"f1_s7_6_anio\",\"qgrid_unfiltered_index\":79,\"Variable\":\"f1_s7_6_anio\",\"Tipo\":\"Categ\\u00f3rica\",\"Minimo\":null,\"Maximo\":null,\"Rango\":null,\"Promedio\":\"No aplica\",\"Mediana\":\"No aplica\",\"Moda\":\"2024\",\"Desviacion_Estandar\":\"No aplica\",\"Coeficiente_Variacion\":null,\"Varianza\":\"No aplica\",\"Coeficiente_Asimetria\":\"No aplica\",\"Curtosis\":\"No aplica\"},{\"index\":\"f1_s7_6_hh\",\"qgrid_unfiltered_index\":80,\"Variable\":\"f1_s7_6_hh\",\"Tipo\":\"Categ\\u00f3rica\",\"Minimo\":null,\"Maximo\":null,\"Rango\":null,\"Promedio\":\"No aplica\",\"Mediana\":\"No aplica\",\"Moda\":\"11\",\"Desviacion_Estandar\":\"No aplica\",\"Coeficiente_Variacion\":null,\"Varianza\":\"No aplica\",\"Coeficiente_Asimetria\":\"No aplica\",\"Curtosis\":\"No aplica\"},{\"index\":\"f1_s7_6_mm\",\"qgrid_unfiltered_index\":81,\"Variable\":\"f1_s7_6_mm\",\"Tipo\":\"Categ\\u00f3rica\",\"Minimo\":null,\"Maximo\":null,\"Rango\":null,\"Promedio\":\"No aplica\",\"Mediana\":\"No aplica\",\"Moda\":\"0\",\"Desviacion_Estandar\":\"No aplica\",\"Coeficiente_Variacion\":null,\"Varianza\":\"No aplica\",\"Coeficiente_Asimetria\":\"No aplica\",\"Curtosis\":\"No aplica\"},{\"index\":\"f1_s7_7\",\"qgrid_unfiltered_index\":82,\"Variable\":\"f1_s7_7\",\"Tipo\":\"Categ\\u00f3rica\",\"Minimo\":null,\"Maximo\":null,\"Rango\":null,\"Promedio\":\"No aplica\",\"Mediana\":\"No aplica\",\"Moda\":\"1\",\"Desviacion_Estandar\":\"No aplica\",\"Coeficiente_Variacion\":null,\"Varianza\":\"No aplica\",\"Coeficiente_Asimetria\":\"No aplica\",\"Curtosis\":\"No aplica\"},{\"index\":\"f1_s7_8\",\"qgrid_unfiltered_index\":83,\"Variable\":\"f1_s7_8\",\"Tipo\":\"Categ\\u00f3rica\",\"Minimo\":null,\"Maximo\":null,\"Rango\":null,\"Promedio\":\"No aplica\",\"Mediana\":\"No aplica\",\"Moda\":\"1\",\"Desviacion_Estandar\":\"No aplica\",\"Coeficiente_Variacion\":null,\"Varianza\":\"No aplica\",\"Coeficiente_Asimetria\":\"No aplica\",\"Curtosis\":\"No aplica\"},{\"index\":\"f1_s7_9\",\"qgrid_unfiltered_index\":84,\"Variable\":\"f1_s7_9\",\"Tipo\":\"Num\\u00e9rica\",\"Minimo\":0.0,\"Maximo\":999.0,\"Rango\":999.0,\"Promedio\":\"14.52\",\"Mediana\":\"0.09\",\"Moda\":\"0.0\",\"Desviacion_Estandar\":\"118.72\",\"Coeficiente_Variacion\":8.18,\"Varianza\":\"14094.09\",\"Coeficiente_Asimetria\":\"8.17\",\"Curtosis\":\"64.78\"},{\"index\":\"f1_s7_9_a\",\"qgrid_unfiltered_index\":85,\"Variable\":\"f1_s7_9_a\",\"Tipo\":\"Categ\\u00f3rica\",\"Minimo\":null,\"Maximo\":null,\"Rango\":null,\"Promedio\":\"No aplica\",\"Mediana\":\"No aplica\",\"Moda\":\"2\",\"Desviacion_Estandar\":\"No aplica\",\"Coeficiente_Variacion\":null,\"Varianza\":\"No aplica\",\"Coeficiente_Asimetria\":\"No aplica\",\"Curtosis\":\"No aplica\"},{\"index\":\"f1_s7_10\",\"qgrid_unfiltered_index\":86,\"Variable\":\"f1_s7_10\",\"Tipo\":\"int32\",\"Minimo\":1.0,\"Maximo\":4.0,\"Rango\":3.0,\"Promedio\":\"2.95\",\"Mediana\":\"3.0\",\"Moda\":\"3\",\"Desviacion_Estandar\":\"0.33\",\"Coeficiente_Variacion\":0.11,\"Varianza\":\"0.11\",\"Coeficiente_Asimetria\":\"-4.52\",\"Curtosis\":\"25.04\"},{\"index\":\"f1_s7_11_dia\",\"qgrid_unfiltered_index\":87,\"Variable\":\"f1_s7_11_dia\",\"Tipo\":\"Categ\\u00f3rica\",\"Minimo\":null,\"Maximo\":null,\"Rango\":null,\"Promedio\":\"No aplica\",\"Mediana\":\"No aplica\",\"Moda\":\"18\",\"Desviacion_Estandar\":\"No aplica\",\"Coeficiente_Variacion\":null,\"Varianza\":\"No aplica\",\"Coeficiente_Asimetria\":\"No aplica\",\"Curtosis\":\"No aplica\"},{\"index\":\"f1_s7_11_mes\",\"qgrid_unfiltered_index\":88,\"Variable\":\"f1_s7_11_mes\",\"Tipo\":\"Categ\\u00f3rica\",\"Minimo\":null,\"Maximo\":null,\"Rango\":null,\"Promedio\":\"No aplica\",\"Mediana\":\"No aplica\",\"Moda\":\"7\",\"Desviacion_Estandar\":\"No aplica\",\"Coeficiente_Variacion\":null,\"Varianza\":\"No aplica\",\"Coeficiente_Asimetria\":\"No aplica\",\"Curtosis\":\"No aplica\"},{\"index\":\"f1_s7_11_anio\",\"qgrid_unfiltered_index\":89,\"Variable\":\"f1_s7_11_anio\",\"Tipo\":\"Categ\\u00f3rica\",\"Minimo\":null,\"Maximo\":null,\"Rango\":null,\"Promedio\":\"No aplica\",\"Mediana\":\"No aplica\",\"Moda\":\"2024\",\"Desviacion_Estandar\":\"No aplica\",\"Coeficiente_Variacion\":null,\"Varianza\":\"No aplica\",\"Coeficiente_Asimetria\":\"No aplica\",\"Curtosis\":\"No aplica\"},{\"index\":\"f1_s7_11_hh\",\"qgrid_unfiltered_index\":90,\"Variable\":\"f1_s7_11_hh\",\"Tipo\":\"Categ\\u00f3rica\",\"Minimo\":null,\"Maximo\":null,\"Rango\":null,\"Promedio\":\"No aplica\",\"Mediana\":\"No aplica\",\"Moda\":\"11\",\"Desviacion_Estandar\":\"No aplica\",\"Coeficiente_Variacion\":null,\"Varianza\":\"No aplica\",\"Coeficiente_Asimetria\":\"No aplica\",\"Curtosis\":\"No aplica\"},{\"index\":\"f1_s7_11_mm\",\"qgrid_unfiltered_index\":91,\"Variable\":\"f1_s7_11_mm\",\"Tipo\":\"Categ\\u00f3rica\",\"Minimo\":null,\"Maximo\":null,\"Rango\":null,\"Promedio\":\"No aplica\",\"Mediana\":\"No aplica\",\"Moda\":\"1\",\"Desviacion_Estandar\":\"No aplica\",\"Coeficiente_Variacion\":null,\"Varianza\":\"No aplica\",\"Coeficiente_Asimetria\":\"No aplica\",\"Curtosis\":\"No aplica\"},{\"index\":\"f1_s7_12\",\"qgrid_unfiltered_index\":92,\"Variable\":\"f1_s7_12\",\"Tipo\":\"Categ\\u00f3rica\",\"Minimo\":null,\"Maximo\":null,\"Rango\":null,\"Promedio\":\"No aplica\",\"Mediana\":\"No aplica\",\"Moda\":\"1\",\"Desviacion_Estandar\":\"No aplica\",\"Coeficiente_Variacion\":null,\"Varianza\":\"No aplica\",\"Coeficiente_Asimetria\":\"No aplica\",\"Curtosis\":\"No aplica\"},{\"index\":\"f1_s7_13\",\"qgrid_unfiltered_index\":93,\"Variable\":\"f1_s7_13\",\"Tipo\":\"Num\\u00e9rica\",\"Minimo\":0.0,\"Maximo\":999.0,\"Rango\":999.0,\"Promedio\":\"14.97\",\"Mediana\":\"0.1\",\"Moda\":\"0.0\",\"Desviacion_Estandar\":\"120.26\",\"Coeficiente_Variacion\":8.04,\"Varianza\":\"14462.23\",\"Coeficiente_Asimetria\":\"8.06\",\"Curtosis\":\"62.97\"},{\"index\":\"f1_s7_13_a\",\"qgrid_unfiltered_index\":94,\"Variable\":\"f1_s7_13_a\",\"Tipo\":\"Categ\\u00f3rica\",\"Minimo\":null,\"Maximo\":null,\"Rango\":null,\"Promedio\":\"No aplica\",\"Mediana\":\"No aplica\",\"Moda\":\"2\",\"Desviacion_Estandar\":\"No aplica\",\"Coeficiente_Variacion\":null,\"Varianza\":\"No aplica\",\"Coeficiente_Asimetria\":\"No aplica\",\"Curtosis\":\"No aplica\"},{\"index\":\"f1_s7_14_dia_i\",\"qgrid_unfiltered_index\":95,\"Variable\":\"f1_s7_14_dia_i\",\"Tipo\":\"Categ\\u00f3rica\",\"Minimo\":null,\"Maximo\":null,\"Rango\":null,\"Promedio\":\"No aplica\",\"Mediana\":\"No aplica\",\"Moda\":\"18\",\"Desviacion_Estandar\":\"No aplica\",\"Coeficiente_Variacion\":null,\"Varianza\":\"No aplica\",\"Coeficiente_Asimetria\":\"No aplica\",\"Curtosis\":\"No aplica\"},{\"index\":\"f1_s7_14_mes_i\",\"qgrid_unfiltered_index\":96,\"Variable\":\"f1_s7_14_mes_i\",\"Tipo\":\"Categ\\u00f3rica\",\"Minimo\":null,\"Maximo\":null,\"Rango\":null,\"Promedio\":\"No aplica\",\"Mediana\":\"No aplica\",\"Moda\":\"7\",\"Desviacion_Estandar\":\"No aplica\",\"Coeficiente_Variacion\":null,\"Varianza\":\"No aplica\",\"Coeficiente_Asimetria\":\"No aplica\",\"Curtosis\":\"No aplica\"},{\"index\":\"f1_s7_14_anio_i\",\"qgrid_unfiltered_index\":97,\"Variable\":\"f1_s7_14_anio_i\",\"Tipo\":\"Categ\\u00f3rica\",\"Minimo\":null,\"Maximo\":null,\"Rango\":null,\"Promedio\":\"No aplica\",\"Mediana\":\"No aplica\",\"Moda\":\"2024\",\"Desviacion_Estandar\":\"No aplica\",\"Coeficiente_Variacion\":null,\"Varianza\":\"No aplica\",\"Coeficiente_Asimetria\":\"No aplica\",\"Curtosis\":\"No aplica\"},{\"index\":\"f1_s7_14_hh_i\",\"qgrid_unfiltered_index\":98,\"Variable\":\"f1_s7_14_hh_i\",\"Tipo\":\"Categ\\u00f3rica\",\"Minimo\":null,\"Maximo\":null,\"Rango\":null,\"Promedio\":\"No aplica\",\"Mediana\":\"No aplica\",\"Moda\":\"11\",\"Desviacion_Estandar\":\"No aplica\",\"Coeficiente_Variacion\":null,\"Varianza\":\"No aplica\",\"Coeficiente_Asimetria\":\"No aplica\",\"Curtosis\":\"No aplica\"},{\"index\":\"f1_s7_14_mm_i\",\"qgrid_unfiltered_index\":99,\"Variable\":\"f1_s7_14_mm_i\",\"Tipo\":\"Categ\\u00f3rica\",\"Minimo\":null,\"Maximo\":null,\"Rango\":null,\"Promedio\":\"No aplica\",\"Mediana\":\"No aplica\",\"Moda\":\"10\",\"Desviacion_Estandar\":\"No aplica\",\"Coeficiente_Variacion\":null,\"Varianza\":\"No aplica\",\"Coeficiente_Asimetria\":\"No aplica\",\"Curtosis\":\"No aplica\"}]}",
       "_df_range": [
        0,
        100
       ],
       "_editable_rows": {},
       "_index_col_name": "qgrid_unfiltered_index",
       "_interval_columns": [],
       "_multi_index": false,
       "_row_count": 133,
       "_row_styles": {},
       "_sort_ascending": true,
       "_sort_field": null,
       "_viewport_range": [
        0,
        100
       ],
       "grid_options": {
        "autoEdit": false,
        "boldIndex": true,
        "defaultColumnWidth": 150,
        "editable": true,
        "enableColumnReorder": false,
        "enableTextSelectionOnCells": true,
        "explicitInitialization": true,
        "filterable": true,
        "forceFitColumns": true,
        "fullWidthRows": true,
        "highlightSelectedCell": false,
        "highlightSelectedRow": true,
        "maxVisibleRows": 15,
        "minVisibleRows": 8,
        "rowHeight": 28,
        "sortable": true,
        "syncColumnCellResize": true
       },
       "id": "1b0092f7-b842-4c6b-a800-a727a632bad1",
       "layout": "IPY_MODEL_149a954cbd044216baeb93d4a2b50e38",
       "precision": 5,
       "show_toolbar": true
      }
     }
    },
    "version_major": 2,
    "version_minor": 0
   }
  }
 },
 "nbformat": 4,
 "nbformat_minor": 5
}
