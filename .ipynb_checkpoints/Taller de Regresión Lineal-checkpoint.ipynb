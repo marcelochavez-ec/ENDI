{
 "cells": [
  {
   "cell_type": "code",
   "execution_count": 7,
   "id": "6c5b43e6-f78b-427b-9a99-8f97b11c458e",
   "metadata": {},
   "outputs": [
    {
     "data": {
      "application/vnd.jupyter.widget-view+json": {
       "model_id": "4a737f51abe74516a38ad1225e4b77e2",
       "version_major": 2,
       "version_minor": 0
      },
      "text/plain": [
       "HBox(children=(Button(button_style='primary', description='Inicio', style=ButtonStyle()), Button(button_style=…"
      ]
     },
     "metadata": {},
     "output_type": "display_data"
    }
   ],
   "source": [
    "import ipywidgets as widgets\n",
    "from IPython.display import display, clear_output\n",
    "\n",
    "# Función para manejar la navegación\n",
    "def show_section(section_name):\n",
    "    clear_output(wait=True)\n",
    "    display(menu_bar, widgets.HTML(f\"<h3>Estás en: {section_name}</h3>\"))\n",
    "\n",
    "# Crear botones del menú\n",
    "inicio_button = widgets.Button(description=\"Inicio\", button_style='primary')\n",
    "seccion1_button = widgets.Button(description=\"Sección 1\", button_style='primary')\n",
    "seccion2_button = widgets.Button(description=\"Sección 2\", button_style='primary')\n",
    "seccion3_button = widgets.Button(description=\"Sección 3\", button_style='primary')\n",
    "regresar_button = widgets.Button(description=\"Regresar al menú\", button_style='danger')\n",
    "\n",
    "# Asignar funciones a los botones\n",
    "inicio_button.on_click(lambda _: show_section(\"Inicio\"))\n",
    "seccion1_button.on_click(lambda _: show_section(\"Sección 1\"))\n",
    "seccion2_button.on_click(lambda _: show_section(\"Sección 2\"))\n",
    "seccion3_button.on_click(lambda _: show_section(\"Sección 3\"))\n",
    "regresar_button.on_click(lambda _: show_section(\"Menú principal\"))\n",
    "\n",
    "# Estilo del menú (disposición horizontal)\n",
    "menu_bar = widgets.HBox(\n",
    "    [inicio_button, seccion1_button, seccion2_button, seccion3_button, regresar_button],\n",
    "    layout=widgets.Layout(\n",
    "        justify_content='space-between',\n",
    "        width='100%',\n",
    "        padding='10px',\n",
    "        border='solid 2px #007bff',\n",
    "        border_radius='5px',\n",
    "        background_color='#007bff'\n",
    "    )\n",
    ")\n",
    "\n",
    "# Mostrar el menú\n",
    "display(menu_bar)"
   ]
  },
  {
   "cell_type": "code",
   "execution_count": null,
   "id": "a0322ce4-d0e9-45ec-8cc0-addb84686695",
   "metadata": {},
   "outputs": [],
   "source": []
  }
 ],
 "metadata": {
  "kernelspec": {
   "display_name": "Python 3 (ipykernel)",
   "language": "python",
   "name": "python3"
  },
  "language_info": {
   "codemirror_mode": {
    "name": "ipython",
    "version": 3
   },
   "file_extension": ".py",
   "mimetype": "text/x-python",
   "name": "python",
   "nbconvert_exporter": "python",
   "pygments_lexer": "ipython3",
   "version": "3.10.14"
  }
 },
 "nbformat": 4,
 "nbformat_minor": 5
}
