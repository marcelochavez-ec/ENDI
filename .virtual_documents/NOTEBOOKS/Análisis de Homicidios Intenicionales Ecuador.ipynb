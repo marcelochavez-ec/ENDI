


import pandas as pd
import pandas as pd
import matplotlib.pyplot as plt
import plotly.express as px
import plotly.graph_objects as go
from plotly.subplots import make_subplots
from IPython.display import display, HTML
from sqlalchemy import create_engine
from matplotlib.ticker import FuncFormatter
import os

def query_postgresql_table(db_name,
                           schema_name, 
                           table_name, 
                           user, 
                           password,
                           host='localhost',
                           port=5432):
    """
    Conecta a una base de datos PostgreSQL y realiza un query completo a una tabla.

    :param db_name: Nombre de la base de datos.
    :param schema_name: Nombre del esquema.
    :param table_name: Nombre de la tabla.
    :param user: Usuario de la base de datos.
    :param password: Contraseña del usuario.
    :param host: Dirección del host (por defecto: 'localhost').
    :param port: Puerto de conexión (por defecto: 5432).
    :return: DataFrame de pandas con los datos de la tabla.
    """
    try:
        # Crear la cadena de conexión
        connection_string = f"postgresql://{user}:{password}@{host}:{port}/{db_name}"
        
        # Crear el motor de conexión
        engine = create_engine(connection_string)
        
        # Construir la consulta SQL
        query = f"SELECT * FROM {schema_name}.{table_name}"
        
        # Ejecutar la consulta y cargar los datos en un DataFrame
        df = pd.read_sql_query(query, engine)
        
        print("Consulta realizada con éxito.")
        return df
    except Exception as e:
        print(f"Error al realizar la consulta: {e}")
        return None

def display_scroll(df, height=200):
    """
    Muestra un DataFrame con un contenedor de desplazamiento.
    
    Parámetros:
    df : DataFrame
        El DataFrame a mostrar.
    height : int
        La altura del contenedor en píxeles.
    """
    display(HTML(f'<div style="height: {height}px; overflow-y: scroll;">{df.to_html()}</div>'))


# Parámetros de conexión
db_name = 'mdi_dwh'
schema_name = 'data_lake'
table_name = 'hi_total'
user = 'postgres'
password = 'marce'

# Llamar a la función
df_hi_2024 = query_postgresql_table(db_name,
                                    schema_name, 
                                    table_name, 
                                    user, 
                                    password)

# Asegúrate de que las columnas necesarias existen y están en el formato correcto
df_hi_2024['fecha_infraccion'] = pd.to_datetime(df_hi_2024['fecha_infraccion'], errors='coerce')
df_hi_2024['mes_infraccion'] = df_hi_2024['fecha_infraccion'].dt.month
df_hi_2024['anio_infraccion'] = df_hi_2024['fecha_infraccion'].dt.year

# Crear una columna codificada para los nombres de los meses
df_hi_2024['nombre_mes_infraccion'] = df_hi_2024['mes_infraccion'].map({
    1: 'Enero', 
    2: 'Febrero',
    3: 'Marzo', 
    4: 'Abril',
    5: 'Mayo', 
    6: 'Junio',
    7: 'Julio',
    8: 'Agosto', 
    9: 'Septiembre', 
    10: 'Octubre', 
    11: 'Noviembre', 
    12: 'Diciembre'})

# Agrupar por provincia, año y nombre del mes
reporte_provincial_anual = (
    df_hi_2024
    .groupby(['anio_infraccion', 'provincia'])
    .size()  # Contar los registros
    .reset_index(name='total_casos_hi')  # Renombrar la columna del conteo
)

display_scroll(reporte_provincial_anual)


import plotly.express as px

# Creación del gráfico:
fig = px.scatter(
    reporte_provincial_anual,
    x="provincia",  # Provincias en el eje X
    y="total_casos_hi",  # Casos en el eje Y
    animation_frame="anio_infraccion",  # Animación por año
    animation_group="provincia",  # Agrupación por provincia
    size="total_casos_hi",  # Tamaño de los puntos según los casos
    color="provincia",  # Colores por provincia
    hover_name="provincia",  # Mostrar provincia al pasar el mouse
    size_max=100,  # Tamaño máximo de los puntos
)

# Layout del gráfico:
fig.update_layout(
    title="Evolución de Casos por Provincia",
    xaxis_title="Provincia",
    yaxis_title="Total de Casos HI",
    yaxis=dict(
        title_font=dict(size=16),  # Aumentar tamaño de fuente del título Y
        range=[0, 3850],  # Establecer el rango deseado para el eje Y
    ),
    xaxis=dict(tickangle=90),  # Girar las etiquetas del eje X
    margin=dict(l=40, r=40, t=60, b=160),  # Incrementar el margen inferior
    font=dict(size=12),  # Aumentar el tamaño general de la fuente
    height=800,  # Incrementar la altura del gráfico
    width=1200,  # Ancho del gráfico
)

# Ajustes del Slider:
fig.update_layout(
    sliders=[
        dict(
            pad={"t": 200},  # Mover el slider más abajo
        )
    ],
    legend=dict(
        orientation="v",  # Orientación vertical
        yanchor="top",  # Anclar la parte superior
        y=1,  # Posicionar en la parte superior
        xanchor="left",  # Anclar a la izquierda
        x=1.05,  # Posicionar fuera del gráfico
        font=dict(size=10),  # Reducir tamaño de la fuente para compactar
    )
)

# Mostrar el gráfico
fig.show()


# Reemplazar "NO DETERMINADO" y "SIN_DATO" en la columna "sexo"
df_hi_2024["sexo"] = df_hi_2024["sexo"].replace({"NO DETERMINADO": "SIN DATO", "SIN_DATO": "SIN DATO"})

# Agrupar por provincia, año y nombre del mes
reporte_sexo_anual = (
    df_hi_2024
    .groupby(['anio_infraccion', 'sexo'])
    .size()  # Contar los registros
    .reset_index(name='total_casos_hi')  # Renombrar la columna del conteo
)

display_scroll(reporte_sexo_anual)


# Lista única de años y categorías de sexo
anios = sorted(reporte_sexo_anual['anio_infraccion'].unique())
categorias_sexo = reporte_sexo_anual['sexo'].unique()

# Configuración: 4 columnas por fila
num_cols = 4
num_rows = -(-len(anios) // num_cols)  # Calcular filas

# Paleta de colores personalizada (sobria)
color_palette = ["#636EFA", "#EF553B", "#00CC96", "#AB63FA", "#FFA15A"]

# Configuración de subplots
fig = make_subplots(
    rows=num_rows,
    cols=num_cols,
    subplot_titles=[f"Año {anio}" for anio in anios],
    specs=[[{'type': 'domain'}] * num_cols for _ in range(num_rows)],
    vertical_spacing=0.2  # Reducir el espaciado vertical entre filas
)

# Agregar cada dona
for idx, anio in enumerate(anios):
    row = (idx // num_cols) + 1
    col = (idx % num_cols) + 1
    df_anio = reporte_sexo_anual[reporte_sexo_anual['anio_infraccion'] == anio]
    df_anio = df_anio.set_index('sexo').reindex(categorias_sexo, fill_value=0).reset_index()
    
    fig.add_trace(
        go.Pie(
            labels=df_anio['sexo'],
            values=df_anio['total_casos_hi'],
            hole=0.5,
            pull=[0.1 if label == "SIN DATO" else 0 for label in df_anio['sexo']],
            showlegend=(idx == 0),
            legendgroup="sexo",
            marker=dict(colors=color_palette)
        ),
        row=row,
        col=col
    )

# Ajustar posición de los títulos de las donas
for annotation in fig['layout']['annotations']:
    annotation['y'] += 0.05  # Elevar títulos 0.05 unidades en el eje Y

# Actualizar diseño
fig.update_layout(
    title_text="Distribución de homicidios intencionales hombres y mujeres por año",
    title_y=0.98,  # Mover el título lo más arriba posible dentro del rango permitido
    height=300 * num_rows,
    width=1200,
    legend_title="Sexo",
    margin=dict(t=120, l=50, r=50, b=50)  # Incrementar margen superior para más espacio
)

# Mostrar gráfico
fig.show()


import seaborn as sns
import matplotlib.pyplot as plt
import pandas as pd
import numpy as np

# Datos de ejemplo (asegúrate de reemplazar con tu DataFrame `reporte_sexo_anual`)
# reporte_sexo_anual = ... (tu DataFrame original)

# Ordenar los datos
anios = sorted(reporte_sexo_anual['anio_infraccion'].unique())
categorias_sexo = reporte_sexo_anual['sexo'].unique()

# Crear una paleta de colores personalizada
color_palette = sns.color_palette(["#636EFA", "#EF553B", "#00CC96", "#AB63FA", "#FFA15A"])

# Crear figura y subplots
num_cols = 4
num_rows = -(-len(anios) // num_cols)  # Calcular filas
fig, axes = plt.subplots(num_rows, num_cols, figsize=(16, 4 * num_rows), constrained_layout=True)

# Asegurar que `axes` es un arreglo bidimensional
axes = np.array(axes).reshape(num_rows, num_cols)

# Iterar sobre los años y dibujar gráficos de barras apiladas
for idx, anio in enumerate(anios):
    row, col = divmod(idx, num_cols)
    ax = axes[row, col]

    # Filtrar datos para el año actual
    df_anio = reporte_sexo_anual[reporte_sexo_anual['anio_infraccion'] == anio]
    df_anio = df_anio.set_index('sexo').reindex(categorias_sexo, fill_value=0).reset_index()
    
    # Crear gráfica de barras apiladas
    ax.barh(
        df_anio['sexo'],
        df_anio['total_casos_hi'],
        color=color_palette[:len(categorias_sexo)],
        edgecolor="black",
    )

    # Personalizar ejes y título
    ax.set_title(f"Año {anio}", fontsize=12, fontweight="bold")
    ax.set_xlabel("Total de Casos")
    ax.set_ylabel("Sexo")
    ax.grid(axis='x', linestyle='--', alpha=0.5)

# Eliminar subplots vacíos si hay más espacios que años
for idx in range(len(anios), num_rows * num_cols):
    row, col = divmod(idx, num_cols)
    fig.delaxes(axes[row, col])

# Título general del gráfico
fig.suptitle(
    "Distribución de homicidios intencionales por sexo y año",
    fontsize=16,
    fontweight="bold",
    y=1.02
)

# Mostrar gráfico
plt.show()


import matplotlib.pyplot as plt
import numpy as np

# Datos de ejemplo (reemplazar con tu DataFrame original)
# reporte_sexo_anual = ...

# Ordenar los datos
anios = sorted(reporte_sexo_anual['anio_infraccion'].unique())
categorias_sexo = reporte_sexo_anual['sexo'].unique()

# Crear figura y subplots
num_cols = 4
num_rows = -(-len(anios) // num_cols)  # Calcular filas
fig, axes = plt.subplots(num_rows, num_cols, figsize=(16, 4 * num_rows))

# Asegurar que `axes` es un arreglo bidimensional
axes = np.array(axes).reshape(num_rows, num_cols)

# Paleta de colores personalizada
color_palette = ["#636EFA", "#EF553B", "#00CC96", "#AB63FA", "#FFA15A"]

# Generar gráficos de dona para cada año
for idx, anio in enumerate(anios):
    row, col = divmod(idx, num_cols)
    ax = axes[row, col]

    # Filtrar datos para el año actual
    df_anio = reporte_sexo_anual[reporte_sexo_anual['anio_infraccion'] == anio]
    df_anio = df_anio.set_index('sexo').reindex(categorias_sexo, fill_value=0).reset_index()

    # Datos para el gráfico
    valores = df_anio['total_casos_hi']
    etiquetas = df_anio['sexo']

    # Gráfico de dona
    wedges, texts = ax.pie(
        valores,
        startangle=90,
        colors=color_palette[:len(etiquetas)],
        wedgeprops=dict(width=0.5)  # Aumentar el grosor de las donas
    )

    # Título de cada dona
    ax.set_title(f"Año {anio}", fontsize=12, fontweight="bold")

    # Crear leyenda personalizada
    total = sum(valores)
    leyenda = [
        f"{label}: {value} casos ({value / total * 100:.1f}%)"
        for label, value in zip(etiquetas, valores)
    ]

    ax.legend(
        leyenda,
        loc="lower center",
        fontsize=9,
        bbox_to_anchor=(0.5, -0.4),  # Ajustar la posición debajo de la dona
        frameon=False
    )

# Eliminar subplots vacíos si hay más espacios que años
for idx in range(len(anios), num_rows * num_cols):
    row, col = divmod(idx, num_cols)
    fig.delaxes(axes[row, col])

# Título general del gráfico
fig.suptitle(
    "Distribución de homicidios intencionales por sexo y año",
    fontsize=16,
    fontweight="bold",
    y=1.02
)

# Ajustar diseño
plt.tight_layout()
plt.subplots_adjust(hspace=0.6)  # Aumentar espacio vertical entre subplots
plt.show()
