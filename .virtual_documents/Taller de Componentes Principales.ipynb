














import mglearn


%matplotlib inline


mglearn.plots.plot_pca_illustration()



