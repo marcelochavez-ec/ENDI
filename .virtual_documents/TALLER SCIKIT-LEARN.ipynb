from sklearn.datasets import load_iris
from CLASS_VISUALIZACION import *
import pandas as pd


# Cargar el dataset Iris
iris_dataset = load_iris()

# Convertir las características a un DataFrame
iris_data = pd.DataFrame(iris_dataset.data, columns=iris_dataset.feature_names)

# Agregar la columna de clases numéricas
iris_data['target'] = iris_dataset.target

# Agregar la columna de clases categóricas (nombres)
iris_data['class'] = iris_data['target'].apply(lambda x: iris_dataset.target_names[x])

# Mostrar el DataFrame
display(iris_data)


# Instancia de la Clase 
visualizador = ClassVisualizacion(iris_data)

visualizador.scatter_plot(
    x_var='sepal length (cm)', 
    y_var='petal length (cm)',
    label_var='class',
    xlabel='Largo del sépalo (cm)',
    ylabel='Largo del pétalo (cm)',
    title='Relación entre Largo del Sépalo y Largo del Petalo',
    footnote='Datos tomados del dataset Iris proporcionado por scikit-learn.'
)


# One hot usando OneHotEncoder
adult_df = pd.read_csv("COURSE_SCIKIT_LEARN/c2_preprocesamiento/adult.csv")


display(adult_df)


adult_df.sex.unique()


# Calcular conteos absolutos y porcentajes en una sola línea
summary = pd.DataFrame({'Absoluto': adult_df.sex.value_counts(), 
                        'Porcentaje': (adult_df.sex.value_counts(normalize=True) * 100).round(2).astype(str) + '%'})
summary


from sklearn.preprocessing import OneHotEncoder


one_hot_enconder = OneHotEncoder()
encode_adult_sex = one_hot_enconder.fit_transform(adult_df[["sex"]])
print(encode_adult_sex)
print(one_hot_enconder.categories)
adult_df[one_hot_enconder.categories_[0]] = encode_adult_sex.toarray()
print(adult_df.columns)



