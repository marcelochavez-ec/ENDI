import pandas as pd
import matplotlib.pyplot as plt
from matplotlib.ticker import FuncFormatter

# Crear un DataFrame de prueba
data = {
    "annio": [2020.0, 2021.0, 2022.0, 2023.0],
    "venta_cromos_101": [1500, 1600, 1700, 1800],
    "venta_cromos_102": [2000, 2100, 2200, 2300],
}

df_ventas = pd.DataFrame(data)

# Convertir la columna 'annio' a enteros
df_ventas["annio"] = df_ventas["annio"].astype(int)

# Crear el objeto de subgráfico
fig, ax = plt.subplots()

# Graficar las ventas de cromos con líneas más delgadas
ax.plot(df_ventas["annio"], df_ventas["venta_cromos_101"], label="Cromos 101", linewidth=1)
ax.plot(df_ventas["annio"], df_ventas["venta_cromos_102"], label="Cromos 102", linewidth=1)

# Añadir etiquetas y título con tamaños ajustados
ax.set_title("Ventas de Cromos por Año", fontsize=14)
ax.set_xlabel("Año", fontsize=12)
ax.set_ylabel("Ventas", fontsize=12)

# Ajustar los valores del eje X para mostrar solo enteros
ax.xaxis.set_major_formatter(FuncFormatter(lambda x, _: f"{int(x)}"))

# Ajustar ticks dentro del gráfico y reducir el tamaño de los valores de los ejes
ax.tick_params(axis='both', direction='in', labelsize=8)

# Rotar los valores del eje X 90 grados
plt.xticks(rotation=90)

# Añadir leyenda
ax.legend()

# Mostrar el gráfico
plt.show()


import pandas as pd
import matplotlib.pyplot as plt
from matplotlib.ticker import FuncFormatter

def plot_graph(df, x_col, y_cols, title, xlabel, ylabel):
    """
    Función para graficar ventas con los parámetros dados.

    Parámetros:
    - df: DataFrame con los datos.
    - x_col: Columna para el eje X.
    - y_cols: Lista de columnas para el eje Y.
    - title: Título del gráfico.
    - xlabel: Etiqueta para el eje X.
    - ylabel: Etiqueta para el eje Y.
    """
    # Crear el objeto de subgráfico
    fig, ax = plt.subplots()

    # Graficar las columnas de ventas en el eje Y
    for y_col in y_cols:
        ax.plot(df[x_col], df[y_col], label=y_col, linewidth=1)

    # Añadir etiquetas y título con tamaños ajustados
    ax.set_title(title, fontsize=14)
    ax.set_xlabel(xlabel, fontsize=12)
    ax.set_ylabel(ylabel, fontsize=12)

    # Ajustar los valores del eje X para mostrar solo enteros
    ax.xaxis.set_major_formatter(FuncFormatter(lambda x, _: f"{int(x)}"))

    # Rotar los valores del eje X 90 grados
    plt.xticks(rotation=90)

    # Ajustar ticks dentro del gráfico y reducir el tamaño de los valores de los ejes
    ax.tick_params(axis='both', direction='in', labelsize=8)

    # Añadir leyenda
    ax.legend()

    # Mostrar el gráfico
    plt.show()


import pandas as pd
import matplotlib.pyplot as plt
from matplotlib.ticker import FuncFormatter
import os

def plot_graph(df, x_col, y_cols, title, xlabel, ylabel, save_path=None):
    """
    Función para graficar ventas con los parámetros dados y guardarlo en una ubicación.

    Parámetros:
    - df: DataFrame con los datos.
    - x_col: Columna para el eje X.
    - y_cols: Lista de columnas para el eje Y.
    - title: Título del gráfico.
    - xlabel: Etiqueta para el eje X.
    - ylabel: Etiqueta para el eje Y.
    - save_path: Ruta donde guardar el gráfico (si es None, no se guarda).
    """
    # Crear el objeto de subgráfico con un tamaño más pequeño para Jupyter Lab
    fig, ax = plt.subplots(figsize=(8, 6))  # Ajustado para que no sea tan grande

    # Graficar las columnas de ventas en el eje Y
    for y_col in y_cols:
        ax.plot(df[x_col], df[y_col], label=y_col, linewidth=1)

    # Añadir etiquetas y título con tamaños ajustados
    ax.set_title(title, fontsize=14)
    ax.set_xlabel(xlabel, fontsize=12)
    ax.set_ylabel(ylabel, fontsize=12)

    # Ajustar los valores del eje X para mostrar solo enteros
    ax.xaxis.set_major_formatter(FuncFormatter(lambda x, _: f"{int(x)}"))

    # Rotar los valores del eje X 90 grados
    plt.xticks(rotation=90)

    # Ajustar ticks dentro del gráfico y reducir el tamaño de los valores de los ejes
    ax.tick_params(axis='both', direction='in', labelsize=8)

    # Añadir leyenda
    ax.legend()

    # Ajustar los márgenes automáticamente
    plt.tight_layout()

    # Guardar el gráfico en la ubicación indicada con alta resolución
    if save_path:
        # Crear la carpeta si no existe
        os.makedirs(os.path.dirname(save_path), exist_ok=True)
        
        # Guardar con una resolución alta (300 dpi o más)
        fig.savefig(save_path,
                    dpi=300,
                    bbox_inches='tight')  # Ajustar el tamaño con 'bbox_inches'

    # Mostrar el gráfico
    plt.show()


# Crear un DataFrame de prueba
data = {
    "annio": [2020.0, 2021.0, 2022.0, 2023.0],
    "venta_cromos_101": [1500, 1600, 1700, 1800],
    "venta_cromos_102": [2000, 2100, 2200, 2300],
}

df_ventas = pd.DataFrame(data)

# Convertir la columna 'annio' a enteros
df_ventas["annio"] = df_ventas["annio"].astype(int)

# Llamar a la función con los parámetros correspondientes y especificar la ruta donde se guardará el gráfico
plot_graph(df_ventas, 
           x_col="annio", 
           y_cols=["venta_cromos_101", "venta_cromos_102"], 
           title="Ventas de Cromos por Año", 
           xlabel="Año", 
           ylabel="Ventas",
           save_path="IMG/ventas_cromos_2024.png")



